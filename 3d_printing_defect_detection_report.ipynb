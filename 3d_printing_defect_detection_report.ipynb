{
 "cells": [
  {
   "cell_type": "code",
   "execution_count": null,
   "metadata": {
    "colab": {
     "base_uri": "https://localhost:8080/"
    },
    "id": "c4FsDh0iwNNM",
    "outputId": "e3f333f9-a0b6-4650-f6d1-ab7ea8a22af6"
   },
   "outputs": [],
   "source": [
    "!nvidia-smi"
   ],
   "id": "c4FsDh0iwNNM"
  },
  {
   "cell_type": "code",
   "execution_count": null,
   "outputs": [],
   "source": [
    "!git clone https://github.com/KoryakovDmitry/3D-printing-defect-cls.git"
   ],
   "metadata": {
    "collapsed": false,
    "pycharm": {
     "name": "#%%\n"
    }
   }
  },
  {
   "cell_type": "code",
   "execution_count": null,
   "outputs": [],
   "source": [
    "# !pip3 install -r /content/3D-printing-defect-cls/requirements_cpu.txt > /dev/null\n",
    "!pip3 install -r /content/3D-printing-defect-cls/requirements_gpu.txt > /dev/null"
   ],
   "metadata": {
    "collapsed": false,
    "pycharm": {
     "name": "#%%\n"
    }
   }
  },
  {
   "cell_type": "code",
   "execution_count": null,
   "outputs": [],
   "source": [
    "# Download datasets\n",
    "\n",
    "# DS_test_bin_flipped_replaced.zip\n",
    "!gdown --id 1JGWubiqQ0XTvTMX9kjXkCcmQbdkMm6LV\n",
    "\n",
    "# DS_synth_bin.zip\n",
    "!gdown --id 1HCczXj1-EDU2jm81H0m-TAoVwjWAGlxf\n",
    "\n",
    "# defects_not_augmented_dataset.zip\n",
    "!gdown --id 18_NKHORM69052--NmS-RSlHo6FJJHiTm"
   ],
   "metadata": {
    "collapsed": false,
    "pycharm": {
     "name": "#%%\n"
    }
   }
  },
  {
   "cell_type": "code",
   "execution_count": null,
   "metadata": {
    "id": "faH_nZ4ByeBg"
   },
   "outputs": [],
   "source": [
    "# unpack images\n",
    "\n",
    "!unzip /content/DS_synth_bin.zip -d /content/3D-printing-defect-cls/data > /dev/null\n",
    "!unzip /content/DS_test_bin_flipped_replaced.zip -d /content/3D-printing-defect-cls/data  > /dev/null\n",
    "!unzip /content/defects_not_augmented_dataset.zip -d /content/3D-printing-defect-cls/data > /dev/null"
   ],
   "id": "faH_nZ4ByeBg"
  },
  {
   "cell_type": "code",
   "execution_count": null,
   "metadata": {
    "id": "10f11c42"
   },
   "outputs": [],
   "source": [
    "import os\n",
    "import cv2\n",
    "import random\n",
    "import os.path as osp\n",
    "\n",
    "import torch\n",
    "import torch.nn as nn\n",
    "import torch.optim as optim\n",
    "from torch.optim import lr_scheduler\n",
    "from torch.utils.data import DataLoader, ConcatDataset\n",
    "\n",
    "import numpy as np\n",
    "import torchvision\n",
    "from torchvision import datasets, models, transforms\n",
    "import matplotlib.pyplot as plt\n",
    "import time\n",
    "import seaborn as sns\n",
    "\n",
    "import copy\n",
    "import shutil\n",
    "from torch.utils.tensorboard import SummaryWriter\n",
    "from sklearn.metrics import f1_score, precision_score, recall_score\n",
    "from tqdm import tqdm_notebook\n",
    "from sklearn.exceptions import DataConversionWarning\n",
    "from sklearn.model_selection import train_test_split\n",
    "from glob import glob\n",
    "from sklearn.metrics import confusion_matrix\n",
    "from sklearn.metrics import ConfusionMatrixDisplay\n",
    "from tqdm import tqdm_notebook\n",
    "from copy import deepcopy\n",
    "\n",
    "import warnings\n",
    "warnings.filterwarnings(action='ignore', category=DataConversionWarning)\n",
    "warnings.filterwarnings(\"ignore\", category=DeprecationWarning)\n",
    "\n",
    "def seed_everything(seed: int):\n",
    "    random.seed(seed)\n",
    "    os.environ['PYTHONHASHSEED'] = str(seed)\n",
    "    np.random.seed(seed)\n",
    "    torch.manual_seed(seed)\n",
    "    torch.cuda.manual_seed(seed)\n",
    "    torch.backends.cudnn.deterministic = True\n",
    "    torch.backends.cudnn.benchmark = True\n",
    "    \n",
    "seed_everything(42)"
   ],
   "id": "10f11c42"
  },
  {
   "cell_type": "code",
   "execution_count": null,
   "metadata": {
    "id": "a9d1b5c7"
   },
   "outputs": [],
   "source": [
    "device = torch.device('cuda' if torch.cuda.is_available() else 'cpu')"
   ],
   "id": "a9d1b5c7"
  },
  {
   "cell_type": "code",
   "execution_count": null,
   "metadata": {
    "id": "82I_IlYhYi9f"
   },
   "outputs": [],
   "source": [
    "def list_files(startpath):\n",
    "  print(osp.basename(startpath))\n",
    "  for root, dirs, files in os.walk(startpath):\n",
    "    if root == startpath:\n",
    "      continue\n",
    "    level = root.replace(startpath, '').count(os.sep)\n",
    "    indent = ' ' * 4 * (level)\n",
    "    print(f'{indent}{osp.basename(root)}/')\n",
    "    subindent = ' ' * 4 * (level + 1)\n",
    "    if len(files):\n",
    "      print(f\"{subindent}count: {len(files)}\")\n"
   ],
   "id": "82I_IlYhYi9f"
  },
  {
   "cell_type": "code",
   "execution_count": null,
   "metadata": {
    "colab": {
     "base_uri": "https://localhost:8080/"
    },
    "id": "064Uu0jFYkm9",
    "outputId": "059eb2c3-3edc-4618-c7a9-bf7494b32829"
   },
   "outputs": [],
   "source": [
    "list_files(\"/content/3D-printing-defect-cls/data/defects_not_augmented_dataset\")"
   ],
   "id": "064Uu0jFYkm9"
  },
  {
   "cell_type": "code",
   "execution_count": null,
   "metadata": {
    "id": "hfZ10om9oCaW"
   },
   "outputs": [],
   "source": [
    "from torchvision.datasets import DatasetFolder\n",
    "from torchvision.datasets.folder import default_loader\n",
    "IMG_EXTENSIONS = (\".jpg\", \".jpeg\", \".png\", \".ppm\", \".bmp\", \".pgm\", \".tif\", \".tiff\", \".webp\")\n",
    "\n",
    "class ImageFolderPath(DatasetFolder):\n",
    "  def __init__(self, root, transform=None, target_transform=None, loader=default_loader, is_valid_file=None):\n",
    "    super().__init__(            \n",
    "            root,\n",
    "            loader,\n",
    "            IMG_EXTENSIONS if is_valid_file is None else None,\n",
    "            transform=transform,\n",
    "            target_transform=target_transform,\n",
    "            is_valid_file=is_valid_file,)\n",
    "    self.imgs = self.samples\n",
    "\n",
    "  def __getitem__(self, index: int):\n",
    "    \"\"\"\n",
    "    Args:\n",
    "        index (int): Index\n",
    "\n",
    "    Returns:\n",
    "        tuple: (sample, target) where target is class_index of the target class.\n",
    "    \"\"\"\n",
    "    path, target = self.samples[index]\n",
    "    sample = self.loader(path)\n",
    "    if self.transform is not None:\n",
    "        sample = self.transform(sample)\n",
    "    if self.target_transform is not None:\n",
    "        target = self.target_transform(target)\n",
    "\n",
    "    return sample, target, path"
   ],
   "id": "hfZ10om9oCaW"
  },
  {
   "cell_type": "code",
   "execution_count": null,
   "metadata": {
    "id": "c_B3vvUrCIBL"
   },
   "outputs": [],
   "source": [
    "# Augmenting only train data\n",
    "data_transforms = {\n",
    "    'train': transforms.Compose([\n",
    "        transforms.Resize(600),\n",
    "        transforms.ColorJitter(brightness=.3, hue=.5, contrast=.1, saturation=.1),\n",
    "        transforms.RandomRotation(degrees=30),\n",
    "        transforms.RandomPerspective(distortion_scale=.3, p=.7),\n",
    "        transforms.RandomHorizontalFlip(p=.5),\n",
    "        transforms.ToTensor(),\n",
    "        transforms.Normalize([0.485, 0.456, 0.406], [0.229, 0.224, 0.225]),\n",
    "        transforms.RandomErasing(p=.3, scale=(0.01, 0.02))\n",
    "    ]),\n",
    "    'valid': transforms.Compose([\n",
    "        transforms.Resize(600),\n",
    "        transforms.ToTensor(),\n",
    "        transforms.Normalize([0.485, 0.456, 0.406], [0.229, 0.224, 0.225])\n",
    "    ]),\n",
    "}"
   ],
   "id": "c_B3vvUrCIBL"
  },
  {
   "cell_type": "code",
   "execution_count": null,
   "metadata": {
    "id": "fPHw189JCaKB"
   },
   "outputs": [],
   "source": [
    "NUM_WORKERS = 2 \n",
    "BATCH_SIZE = 4"
   ],
   "id": "fPHw189JCaKB"
  },
  {
   "cell_type": "code",
   "execution_count": null,
   "metadata": {
    "colab": {
     "base_uri": "https://localhost:8080/"
    },
    "id": "4fbd369f",
    "outputId": "88237025-7e4f-4b7a-eee2-f72bc7a32077"
   },
   "outputs": [],
   "source": [
    "# Folder with data\n",
    "data_dir_stand = '/content/3D-printing-defect-cls/data/defects_not_augmented_dataset'\n",
    "image_datasets_stand = {folder: ImageFolderPath(os.path.join(data_dir_stand, folder),\n",
    "                                          data_transforms[folder])\n",
    "                  for folder in ['train', 'valid']}\n",
    "\n",
    "# Class for loading data as batches\n",
    "dataloaders_stand = {folder: DataLoader(image_datasets_stand[folder], batch_size=BATCH_SIZE,\n",
    "                                              shuffle=True, num_workers=NUM_WORKERS)\n",
    "               for folder in ['train', 'valid']}\n",
    "\n",
    "dataset_stand_sizes = {folder: len(image_datasets_stand[folder]) for folder in ['train', 'valid']}\n",
    "class_names = image_datasets_stand['train'].classes\n",
    "dataset_stand_sizes"
   ],
   "id": "4fbd369f"
  },
  {
   "cell_type": "code",
   "execution_count": null,
   "metadata": {
    "colab": {
     "background_save": true,
     "base_uri": "https://localhost:8080/",
     "height": 740
    },
    "id": "WL1k_pfw9Xr9",
    "outputId": "994ca914-4e23-45f5-9069-0108730a7d5c"
   },
   "outputs": [],
   "source": [
    "import cv2\n",
    "from matplotlib import pyplot as plt\n",
    "\n",
    "fig = plt.figure(figsize=(12, 9))\n",
    "\n",
    "rows = 2\n",
    "columns = 2\n",
    "fontsize = 40\n",
    "\n",
    "base_dir = \"/content/3D-printing-defect-cls/data/defects_not_augmented_dataset/\"\n",
    "\n",
    "imgs_plot = ['train/YesDefects/0_4cd4ef8768114c1098fe9d3740de9f3c.png',\n",
    "             'train/YesDefects/0_9b46cf26021f4824ab498c863849501c.png',\n",
    "             'train/YesDefects/0_2ae9545a1f6446aca044941d27a446c4.png',\n",
    "             'valid/NoDefects/NoDefects.152.jpg',\n",
    "             ]\n",
    "\n",
    "images = [cv2.imread(osp.join(base_dir, i))[:, :, ::-1] for i in imgs_plot]\n",
    "\n",
    "for i in range(1, 5):\n",
    "  plt.figure(figsize=(20, 12))\n",
    "  # fig.add_subplot(rows, columns, i)\n",
    "\n",
    "  lbl = osp.basename(osp.dirname(imgs_plot[i-1]))\n",
    "\n",
    "  plt.imshow(images[i-1])\n",
    "  plt.axis('off')\n",
    "  plt.title(lbl, fontsize=fontsize)\n",
    "  plt.show()\n"
   ],
   "id": "WL1k_pfw9Xr9"
  },
  {
   "cell_type": "code",
   "execution_count": null,
   "metadata": {
    "id": "241c7999"
   },
   "outputs": [],
   "source": [
    "import cv2\n",
    "from matplotlib import pyplot as plt\n",
    "\n",
    "fig = plt.figure(figsize=(12, 9))\n",
    "\n",
    "rows = 2\n",
    "columns = 2\n",
    "fontsize = 40\n",
    "\n",
    "def to_np(inp):\n",
    "  inp = inp.numpy().transpose((1, 2, 0))\n",
    "  mean = np.array([0.485, 0.456, 0.406])\n",
    "  std = np.array([0.229, 0.224, 0.225])\n",
    "  inp = std * inp + mean\n",
    "  inp = np.clip(inp, 0, 1)\n",
    "  return inp\n",
    "\n",
    "aug_plot_dir = \"/content/3D-printing-defect-cls/data/test_aug\"\n",
    "os.makedirs(aug_plot_dir, exist_ok=True)\n",
    "shutil.rmtree(aug_plot_dir)\n",
    "os.makedirs(aug_plot_dir, exist_ok=True)\n",
    "\n",
    "for i in imgs_plot:\n",
    "  i = osp.join(base_dir, i)\n",
    "  cls = osp.basename(osp.dirname(i))\n",
    "  cls_l_dir_split = osp.join(aug_plot_dir, cls)\n",
    "  os.makedirs(cls_l_dir_split, exist_ok=True)\n",
    "  shutil.copy(i, cls_l_dir_split)\n",
    "\n",
    "ifp = ImageFolderPath(aug_plot_dir, data_transforms[\"train\"])\n",
    "dl_ifp = DataLoader(ifp, batch_size=BATCH_SIZE, shuffle=False, num_workers=NUM_WORKERS)\n",
    "inputs, classes, paths = next(iter(dl_ifp))\n",
    "\n",
    "for i in range(1, 5):\n",
    "  fig.add_subplot(rows, columns, i)\n",
    "\n",
    "  lbl = osp.basename(osp.dirname(paths[i-1]))\n",
    "\n",
    "  plt.imshow(to_np(inputs[i-1]))\n",
    "  plt.axis('off')\n",
    "  plt.title(lbl, fontsize=fontsize)\n"
   ],
   "id": "241c7999"
  },
  {
   "cell_type": "code",
   "execution_count": null,
   "metadata": {
    "id": "vq0Cpv7kYK7q"
   },
   "outputs": [],
   "source": [
    "fontsize = 40\n",
    "import cv2\n",
    "from PIL import Image\n",
    "\n",
    "def imshow(inp, title=None):\n",
    "    inp = cv2.imread(inp)\n",
    "    inp = cv2.resize(inp, (1000, 600))\n",
    "    inp[180:240, 40:220, :] = 255\n",
    "    if \"NoDefects\" == title:\n",
    "        im = cv2.putText(inp, title, (50, 200), 1, \n",
    "                    1, (0, 255, 0), 1, cv2.LINE_AA)\n",
    "    else:\n",
    "        im = cv2.putText(inp, title, (50, 200), 1, \n",
    "                    1, (0, 0, 255), 1, cv2.LINE_AA)\n",
    "    display(Image.fromarray(im[:, :, ::-1]))\n"
   ],
   "id": "vq0Cpv7kYK7q"
  },
  {
   "cell_type": "code",
   "execution_count": null,
   "metadata": {
    "id": "7VqZMbd_jC4u"
   },
   "outputs": [],
   "source": [
    "def plot_graph(metrics, title=\"Функция потерь\", xlabel='epoch', ylabel='loss'):\n",
    "  sns.set(style=\"whitegrid\", font_scale=1.4)\n",
    "\n",
    "  plt.figure(figsize=(12, 8))\n",
    "  for lbl in metrics:\n",
    "    plt.plot(metrics[lbl], label=lbl)\n",
    "\n",
    "  plt.title(title)\n",
    "  plt.xlabel(xlabel)\n",
    "  plt.ylabel(ylabel)\n",
    "  plt.legend()\n",
    "  plt.show()\n",
    "\n",
    "def plot_graph_with_fine_tuning(metrics, metrics_fn, title=\"Функция потерь\", xlabel='epoch', ylabel='loss'):\n",
    "  sns.set(style=\"whitegrid\", font_scale=1.4)\n",
    "\n",
    "  plt.figure(figsize=(12, 8))\n",
    "  for lbl in metrics:\n",
    "    plt.plot(metrics[lbl], label=lbl)\n",
    "\n",
    "  for lbl in metrics_fn:\n",
    "    plt.plot(metrics_fn[lbl], label=f\"{lbl}_fine_tuning\")\n",
    "\n",
    "  plt.title(title)\n",
    "  plt.xlabel(xlabel)\n",
    "  plt.ylabel(ylabel)\n",
    "  plt.legend()\n",
    "  plt.show()"
   ],
   "id": "7VqZMbd_jC4u"
  },
  {
   "cell_type": "code",
   "execution_count": null,
   "metadata": {
    "id": "d0a903e4"
   },
   "outputs": [],
   "source": [
    "\n",
    "def getTPFPTNFN_X(y_true, y_pred, inputs):\n",
    "    TP, FP, TN, FN = [], [], [], []\n",
    "    for idx, (s_true, s_pred) in enumerate(zip(y_true, y_pred)):\n",
    "        if s_true == 1:\n",
    "            if s_pred == 1: \n",
    "                TP.append(inputs[idx])\n",
    "            else:\n",
    "                FN.append(inputs[idx])\n",
    "        else:\n",
    "            if s_pred == 0:\n",
    "                TN.append(inputs[idx])\n",
    "            else:\n",
    "                FP.append(inputs[idx])\n",
    "\n",
    "    return TP, FP, TN, FN\n",
    "\n",
    "def get_pers(cm):\n",
    "  cm = cm.astype(float)\n",
    "  cm_sum = cm.sum(axis=1)\n",
    "  prop = deepcopy(cm)\n",
    "  prop[0, :] = prop[0, :] / cm_sum[0]\n",
    "  prop[1, :] = prop[1, :] / cm_sum[1]\n",
    "  prop = prop * 100\n",
    "  prop = np.round(prop, 1)\n",
    "  prop = prop.astype('<U21')\n",
    "  prop = np.core.defchararray.add(prop, \"%)\")\n",
    "  prop = np.core.defchararray.add(\"\\n(\", prop)\n",
    "  cm = cm.astype(int)\n",
    "  out_cm = np.core.defchararray.add(cm.astype('<U21'), prop)\n",
    "  return out_cm.tolist()\n",
    "\n",
    "def plot_confusion_matrix(labels, pred_labels, ph, classes=[\"NoDefects\", \"YesDefects\"]):\n",
    "    cm = confusion_matrix(labels, pred_labels)\n",
    "    pers = get_pers(cm)\n",
    "\n",
    "    ax = plt.subplot()\n",
    "    sns.set(font_scale=2.0) \n",
    "    sns.heatmap(cm, annot=pers, ax=ax, cmap=\"Blues\", fmt='');  \n",
    "\n",
    "    # Labels, title and ticks\n",
    "    label_font = {'size':'18'}  \n",
    "    ax.set_xlabel('Predicted Label', fontdict=label_font);\n",
    "    ax.set_ylabel('True Label', fontdict=label_font);\n",
    "\n",
    "    title_font = {'size':'21'}  \n",
    "    ax.set_title(ph, fontdict=title_font);\n",
    "\n",
    "    ax.tick_params(axis='both', which='major', labelsize=10) \n",
    "    ax.xaxis.set_ticklabels(classes)\n",
    "    ax.yaxis.set_ticklabels(classes)\n",
    "    plt.show()\n",
    "\n",
    "def train_model(model, dataloaders, ds_sizes, criterion, optimizer, scheduler, num_epochs=40):\n",
    "    since = time.time()\n",
    "\n",
    "    best_model_wts = model.state_dict()\n",
    "    n_best_eph = 0\n",
    "    f1_exmp_best = {'train': [], \"valid\": []}\n",
    "    best_f1 = 0.0\n",
    "    best_preds_all = {'train': [], \"valid\": []}\n",
    "    best_lbls_all = {'train': [], \"valid\": []}\n",
    "\n",
    "    losses = {'train': [], \"valid\": []}\n",
    "    accuracy = {'train': [], \"valid\": []}\n",
    "    f1 = {'train': [], \"valid\": []}\n",
    "    precision = {'train': [], \"valid\": []}\n",
    "    recall = {'train': [], \"valid\": []}\n",
    "    \n",
    "    for epoch in tqdm_notebook(range(0, num_epochs)):\n",
    "        preds_all = {'train': [], \"valid\": []}\n",
    "        lbls_all = {'train': [], \"valid\": []}\n",
    "        imgs_all = {'train': [], \"valid\": []}\n",
    "\n",
    "        print('Epoch {}/{}'.format(epoch, num_epochs))\n",
    "        print('-' * 10)\n",
    "        \n",
    "        # Train and valid phase for each epoch\n",
    "        for phase in ['train', 'valid']:\n",
    "            if phase == 'train':\n",
    "                model.train()  # setting model to train mode`\n",
    "            else:\n",
    "                model.eval()\n",
    "\n",
    "            running_loss = 0.0\n",
    "            running_corrects = 0\n",
    "            \n",
    "            # Iterate over data.\n",
    "            for inputs, labels, paths in dataloaders[phase]:\n",
    "                inputs = inputs.to(device)\n",
    "                labels = labels.to(device)\n",
    "\n",
    "                # forward\n",
    "                # track history if only in train\n",
    "                with torch.set_grad_enabled(phase == 'train'):\n",
    "                    outputs = model(inputs)\n",
    "                    _, preds = torch.max(outputs, 1)\n",
    "                    loss = criterion(outputs, labels)\n",
    "\n",
    "                    # backward + optimize only if in training phase\n",
    "                    if phase == 'train':\n",
    "                        optimizer.zero_grad()\n",
    "                        loss.backward()\n",
    "                        optimizer.step()\n",
    "\n",
    "                running_loss += loss.cpu().detach().numpy()\n",
    "\n",
    "                preds = preds.cpu().detach().numpy()\n",
    "                labels = labels.cpu().detach().numpy()\n",
    "                running_corrects += np.sum(preds == labels)\n",
    "                preds_ = [1-l if p > 1 else p for p, l in zip(preds, labels)]\n",
    "                preds_all[phase].extend(preds_)\n",
    "                lbls_all[phase].extend(list(labels))\n",
    "\n",
    "                if phase == 'valid':\n",
    "                  imgs_all[phase].extend(paths)\n",
    "            \n",
    "            \n",
    "            if phase == 'valid':\n",
    "                \n",
    "                TP_exmp, FP_exmp, TN_exmp, FN_exmp = getTPFPTNFN_X(lbls_all[phase], preds_all[phase], imgs_all[phase])\n",
    "                if epoch == 15:\n",
    "                  f1_exmp_best_15 = [TP_exmp, FP_exmp, TN_exmp, FN_exmp]\n",
    "                  best_model_w_15 = copy.deepcopy(model.state_dict())\n",
    "        \n",
    "            plot_confusion_matrix(lbls_all[phase], preds_all[phase], phase)\n",
    "\n",
    "            if phase == 'train':\n",
    "                scheduler.step()\n",
    "\n",
    "            epoch_loss = running_loss / ds_sizes[phase]\n",
    "            epoch_acc = running_corrects / ds_sizes[phase]\n",
    "            epoch_f1 = f1_score(lbls_all[phase], preds_all[phase], pos_label=0)\n",
    "            epoch_precision = precision_score(lbls_all[phase], preds_all[phase], pos_label=0)\n",
    "            epoch_recall = recall_score(lbls_all[phase], preds_all[phase], pos_label=0)               \n",
    "            \n",
    "            \n",
    "            losses[phase].append(epoch_loss)\n",
    "            accuracy[phase].append(epoch_acc)\n",
    "            f1[phase].append(epoch_f1)\n",
    "            precision[phase].append(epoch_precision)\n",
    "            recall[phase].append(epoch_recall)\n",
    "            \n",
    "            print(f'{phase} Loss: {epoch_loss:.4f} Acc: {epoch_acc:.4f} f1: {epoch_f1:.4f} recall: {epoch_recall:.4f} precision: {epoch_precision:.4f}')\n",
    "\n",
    "            if phase == 'valid' and epoch_f1 >= best_f1:\n",
    "                best_f1 = epoch_f1\n",
    "                best_model_w = copy.deepcopy(model.state_dict())\n",
    "                best_preds_all = preds_all\n",
    "                best_lbls_all = lbls_all\n",
    "                n_best_eph = epoch\n",
    "                f1_exmp_best = [TP_exmp, FP_exmp, TN_exmp, FN_exmp]\n",
    "\n",
    "    time_elapsed = time.time() - since\n",
    "    te_ = time_elapsed // 60\n",
    "    te__ = time_elapsed % 60\n",
    "    print(f'Training completed in {te_:.0f}m {te__:.0f}s')\n",
    "    \n",
    "\n",
    "    print(f'Best val f1: {best_f1:4f}, epoch: {n_best_eph}')\n",
    "    \n",
    "    for ph in (\"train\", \"valid\"):\n",
    "        plot_confusion_matrix(best_lbls_all[ph], best_preds_all[ph], ph)\n",
    "\n",
    "    model.load_state_dict(best_model_w_15)\n",
    "    return model, losses, accuracy, f1, precision, recall, f1_exmp_best, f1_exmp_best_15"
   ],
   "id": "d0a903e4"
  },
  {
   "cell_type": "code",
   "execution_count": null,
   "metadata": {
    "id": "b102JBRCqcac"
   },
   "outputs": [],
   "source": [
    "from PIL import Image\n",
    "import torchvision.transforms as transforms\n",
    "import matplotlib.patches as mpatches\n",
    "import matplotlib.pyplot as plt\n",
    "\n",
    "class Predictor:\n",
    "    def __init__(self, w_path, resize=(600, 600)):\n",
    "        self.device = torch.device('cuda' if torch.cuda.is_available() else 'cpu')\n",
    "        num_features = 9216\n",
    "        self.model = models.alexnet(pretrained=False)\n",
    "        \n",
    "        self.model.classifier = nn.Sequential(\n",
    "            nn.Dropout(p=0.5, inplace=False),\n",
    "            nn.Linear(num_features, 2, bias=True),\n",
    "            nn.Softmax(),\n",
    "        )\n",
    "        \n",
    "        self.model = self.model.to(self.device)\n",
    "        self.model.load_state_dict(torch.load(w_path, map_location=self.device))\n",
    "        self.model.eval()\n",
    "        self.to_tensor = transforms.ToTensor() \n",
    "        self.to_norm = transforms.Normalize([0.485, 0.456, 0.406], [0.229, 0.224, 0.225])\n",
    "        self.classes = [\"NoDefects\", \"YesDefects\"]\n",
    "\n",
    "    def inference(self, img: np.array, resize_to=(600, 600)):\n",
    "        img = cv2.resize(img, resize_to)\n",
    "        \n",
    "        tensor = self.to_tensor(img)\n",
    "        tensor = self.to_norm(tensor)\n",
    "        tensor = tensor.unsqueeze(0)\n",
    "        tensor = tensor.to(self.device)\n",
    "        probs = self.model(tensor)\n",
    "        probs = probs.cpu().detach()\n",
    "        _, prediction = torch.max(probs, 1)\n",
    "        prediction = prediction.numpy()\n",
    "        probs = probs.numpy()\n",
    "        return prediction[0], probs[0]\n",
    "    \n",
    "    def plot_res(self, img: np.array, pred, probs, resize_to_scale=2):\n",
    "        plt.figure(figsize=(26, 14))\n",
    "        img = cv2.resize(img, (img.shape[1] // resize_to_scale, img.shape[0] // resize_to_scale))\n",
    "        plt.imshow(cv2.cvtColor(img, cv2.COLOR_BGR2RGB))\n",
    "        p = np.round(probs[pred], decimals=2)\n",
    "        pred_prob = f\"{self.classes[pred]} with prob: {str(p)}\"\n",
    "        pred_patch = mpatches.Patch(color=\"green\" if pred == 0 else \"red\", label=pred_prob)\n",
    "        p = np.round(probs[1-pred], decimals=2)\n",
    "        pred_prob_another = f\"{self.classes[1-pred]} with prob: {str(p)}\"\n",
    "        pred_patch_another = mpatches.Patch(color=\"green\" if pred == 1 else \"red\", label=pred_prob_another)\n",
    "        plt.legend(handles=[pred_patch, pred_patch_another], prop={'size': 30})\n",
    "        plt.axis('off')\n",
    "        plt.show()         \n"
   ],
   "id": "b102JBRCqcac"
  },
  {
   "cell_type": "markdown",
   "metadata": {
    "id": "Pat-DbDSFFvi"
   },
   "source": [
    "# Monitoring the 3D-printing process"
   ],
   "id": "Pat-DbDSFFvi"
  },
  {
   "cell_type": "markdown",
   "metadata": {
    "id": "SrNw3cBHE_Wh"
   },
   "source": [
    "## WITH FINE TUNING"
   ],
   "id": "SrNw3cBHE_Wh"
  },
  {
   "cell_type": "code",
   "execution_count": null,
   "metadata": {
    "colab": {
     "base_uri": "https://localhost:8080/",
     "height": 66,
     "referenced_widgets": [
      "36bf880bd9104709b956b06a1dc5dc0d",
      "ac1ab05662fe4bd1ac734c8d3a1a21c5",
      "606e177ddf9747c7922b99d515349a91",
      "e5a39647e8754a9b841b9a5a924db9ca",
      "41380dd75ea8470e97a0ab1d96e1d77f",
      "25e8e6e704594cb98a0234ed66590b3c",
      "0edd777c93d448e298fddff85a80148a",
      "e1d97d9ac2b64a4b8227305ff5a15a3b",
      "9177a370c0154e13b4b2a6d80b7f601b",
      "f4bd772fc644408aa7a2c02a435670f2",
      "ffcf4e4f78734ccf9bac823f9827901c"
     ]
    },
    "id": "Ew8mpbDBjjj6",
    "outputId": "202ebe62-b215-472b-a7aa-ec127cac6020"
   },
   "outputs": [],
   "source": [
    "model_fn = models.alexnet(pretrained=True)"
   ],
   "id": "Ew8mpbDBjjj6"
  },
  {
   "cell_type": "code",
   "execution_count": null,
   "metadata": {
    "id": "I6R2KJshbhGz"
   },
   "outputs": [],
   "source": [
    "# set number of conv layers to unfreeze\n",
    "layers_to_unfreeze = 5\n",
    "\n",
    "# turn off gradients on non-trainable layers\n",
    "for param in model_fn.features[:-layers_to_unfreeze].parameters():\n",
    "    param.requires_grad = False\n",
    "    \n",
    "# num_features - feature vector size passed to FC layer\n",
    "num_features = 9216\n",
    "\n",
    "# change fully-connected layer to our linear classifier\n",
    "model_fn.classifier = nn.Sequential(\n",
    "    nn.Dropout(p=0.5, inplace=False),\n",
    "    nn.Linear(num_features, 2, bias=True),\n",
    "    nn.Softmax(),\n",
    ")\n",
    "# send model to device\n",
    "model_fn = model_fn.to(device)\n",
    "\n",
    "# use cross-entropy as cost function\n",
    "loss_fn = nn.CrossEntropyLoss()\n",
    "\n",
    "\n",
    "optimizer = torch.optim.Adam(params=[\n",
    "        {\"params\": list(model_fn.features.parameters())[-layers_to_unfreeze:], \"lr\": 1e-5, \"weight_decay\": 1e-5},\n",
    "        # {\"params\": list(model.features.parameters()), \"lr\": 1e-5, \"weight_decay\": 1e-5},\n",
    "        {\"params\": list(model_fn.classifier.parameters()), \"lr\": 1e-4, \"weight_decay\": 1e-5}                              \n",
    "])\n",
    "\n",
    "# multiplies learning_rate by 0.1 every 7 epochs\n",
    "exp_lr_scheduler = lr_scheduler.StepLR(optimizer, step_size=10, gamma=0.1)"
   ],
   "id": "I6R2KJshbhGz"
  },
  {
   "cell_type": "code",
   "execution_count": null,
   "metadata": {
    "colab": {
     "base_uri": "https://localhost:8080/"
    },
    "id": "H5Ml7VzZ1JBy",
    "outputId": "5204f2c3-dc81-4ac9-f1d4-af92f4119a9b"
   },
   "outputs": [],
   "source": [
    "from torchinfo import summary\n",
    "\n",
    "summary(model_fn, input_size=(4, 3, 600, 600)), model_fn"
   ],
   "id": "H5Ml7VzZ1JBy"
  },
  {
   "cell_type": "code",
   "execution_count": null,
   "metadata": {
    "colab": {
     "base_uri": "https://localhost:8080/",
     "height": 1000,
     "referenced_widgets": [
      "96e2011875d14c20ab387834db83c883",
      "ab70dba9a91448969ba784b3be396e3c",
      "f2785159aae444bb820eaeae00ff2cc3",
      "9718249727044a0eaf36531282e5b8a3",
      "c1b727df2b1347f8a3e891f0e61eac6f",
      "3e6e902cd92d42e9af386712431ca429",
      "0b80562d94504f5f956506eda776e764",
      "ab02fcf822d044118a61bae958133aea",
      "108afe6f1aab493f88b5c1a2450c7b1c",
      "6b909ddcbfb24ef3a21608e2b8ec0ce8",
      "6502f87e50be4d6e9e5277c81fd9c89c"
     ]
    },
    "id": "VBE-ndrFDhlf",
    "outputId": "b8c966f6-0662-4fae-fea7-c180ebf3ea00"
   },
   "outputs": [],
   "source": [
    "model_fn, losses_fn, accuracy_fn, f1_fn, precision_fn, recall_fn, f1_exmp_best_fn, f1_exmp_best_15_fn = train_model(model_fn, dataloaders_stand, dataset_stand_sizes, loss_fn, optimizer, exp_lr_scheduler, num_epochs=40)"
   ],
   "id": "VBE-ndrFDhlf"
  },
  {
   "cell_type": "code",
   "execution_count": null,
   "metadata": {
    "id": "_mokGXk_rlZ3"
   },
   "outputs": [],
   "source": [
    "torch.save(model_fn.state_dict(), \"/content/3D-printing-defect-cls/weights/w_model_stand_fine_tuning_15.pth\")"
   ],
   "id": "_mokGXk_rlZ3"
  },
  {
   "cell_type": "code",
   "execution_count": null,
   "metadata": {
    "id": "QA44Zk9Bmenj"
   },
   "outputs": [],
   "source": [
    "def evaluate(model, dataloader, name_loader, ds_size):\n",
    "    accuracy = []\n",
    "    f1 = []\n",
    "    precision = []\n",
    "    recall = []\n",
    "    preds_all = []\n",
    "    lbls_all = []\n",
    "    imgs_all = []\n",
    "    running_loss = 0.0\n",
    "    running_corrects = 0\n",
    "\n",
    "    model.eval()\n",
    "    \n",
    "    for data in dataloader:\n",
    "\n",
    "        inputs, labels, paths = data\n",
    "        \n",
    "        inputs = inputs.to(device)\n",
    "        labels = labels.to(device)\n",
    "            \n",
    "        # forward pass\n",
    "        output = model(inputs)\n",
    "        _, preds = torch.max(output, 1)\n",
    "\n",
    "        preds = preds.cpu().detach().numpy()\n",
    "        labels = labels.cpu().detach().numpy()\n",
    "        running_corrects += np.sum(preds == labels)\n",
    "        preds_ = [1-p if p > 1 else p for p, l in zip(preds, labels)]\n",
    "        preds_all.extend(preds_)\n",
    "        lbls_all.extend(list(labels))\n",
    "        imgs_all.extend(paths)\n",
    "\n",
    "        for i in range(len(preds_)):\n",
    "          pr = preds_[i]\n",
    "          lb = labels[i]\n",
    "          if (pr == 1) and (lb == 0):\n",
    "            print(paths[i], output[pr].cpu().detach().numpy())\n",
    "            predtr.plot_res(cv2.imread(paths[i]), pred=pr, probs=output[pr].cpu().detach().numpy(), resize_to_scale=2)\n",
    "\n",
    "    plot_confusion_matrix(lbls_all, preds_all, name_loader)\n",
    "    epoch_acc = running_corrects / ds_size\n",
    "    epoch_f1 = f1_score(lbls_all, preds_all, pos_label=0)\n",
    "    epoch_precision = precision_score(lbls_all, preds_all, pos_label=0)\n",
    "    epoch_recall = recall_score(lbls_all, preds_all, pos_label=0)\n",
    "\n",
    "    print(f'{name_loader} Acc: {epoch_acc:.4f} f1: {epoch_f1:.4f} recall: {epoch_recall:.4f} precision: {epoch_precision:.4f}')\n",
    "    matr = getTPFPTNFN_X(lbls_all, preds_all, imgs_all)\n",
    "    return epoch_acc, epoch_f1, epoch_precision, epoch_recall, matr"
   ],
   "id": "QA44Zk9Bmenj"
  },
  {
   "cell_type": "code",
   "execution_count": null,
   "metadata": {
    "colab": {
     "base_uri": "https://localhost:8080/",
     "height": 1000
    },
    "id": "LBtrEoVumGui",
    "outputId": "d4db29cb-348a-44b1-bb90-791e9b9c8d24"
   },
   "outputs": [],
   "source": [
    "out = evaluate(model_fn, dataloaders_stand['valid'], 'valid', dataset_stand_sizes['valid'])"
   ],
   "id": "LBtrEoVumGui"
  },
  {
   "cell_type": "code",
   "execution_count": null,
   "metadata": {
    "colab": {
     "base_uri": "https://localhost:8080/",
     "height": 532
    },
    "id": "IOxb1oZnNoe7",
    "outputId": "1216389a-ca32-420b-b76f-46572785d4b7"
   },
   "outputs": [],
   "source": [
    "plot_graph(losses_fn, title=\"Функция потерь\", xlabel='epoch', ylabel='loss')"
   ],
   "id": "IOxb1oZnNoe7"
  },
  {
   "cell_type": "code",
   "execution_count": null,
   "metadata": {
    "colab": {
     "base_uri": "https://localhost:8080/",
     "height": 532
    },
    "id": "j9uo7PMLNofC",
    "outputId": "19540eaa-69a5-4197-d599-66b37e0003b4"
   },
   "outputs": [],
   "source": [
    "plot_graph(accuracy_fn, title=\"Аккуратность, точность\", xlabel='epoch', ylabel='accuracy')"
   ],
   "id": "j9uo7PMLNofC"
  },
  {
   "cell_type": "code",
   "execution_count": null,
   "metadata": {
    "colab": {
     "base_uri": "https://localhost:8080/",
     "height": 532
    },
    "id": "z11YhuIbNofC",
    "outputId": "5d550970-ced7-440b-f189-b5568136a79f"
   },
   "outputs": [],
   "source": [
    "plot_graph(f1_fn, title=\"F1-score (среднее гармоническое Precision и Recall)\", xlabel='epoch', ylabel='F1-score')"
   ],
   "id": "z11YhuIbNofC"
  },
  {
   "cell_type": "code",
   "execution_count": null,
   "metadata": {
    "colab": {
     "base_uri": "https://localhost:8080/",
     "height": 532
    },
    "id": "0GSs1N1uNofC",
    "outputId": "72bd1f16-05bf-47be-f4b5-f4b174454bc7"
   },
   "outputs": [],
   "source": [
    "plot_graph(precision_fn, title=\"Точность\", xlabel='epoch', ylabel='precision')"
   ],
   "id": "0GSs1N1uNofC"
  },
  {
   "cell_type": "code",
   "execution_count": null,
   "metadata": {
    "colab": {
     "base_uri": "https://localhost:8080/",
     "height": 532
    },
    "id": "aaOrkZPTNofC",
    "outputId": "54912d5c-2a54-4adf-8b87-ce6d11dbc7a7"
   },
   "outputs": [],
   "source": [
    "plot_graph(recall_fn, title=\"Полнота\", xlabel='epoch', ylabel='recall')"
   ],
   "id": "aaOrkZPTNofC"
  },
  {
   "cell_type": "code",
   "execution_count": null,
   "metadata": {
    "id": "h56HKZA5YYMW"
   },
   "outputs": [],
   "source": [
    "TN_exmp, FN_exmp, TP_exmp, FP_exmp = f1_exmp_best_15_fn"
   ],
   "id": "h56HKZA5YYMW"
  },
  {
   "cell_type": "code",
   "execution_count": null,
   "metadata": {
    "id": "ap5_jYIOxN_4"
   },
   "outputs": [],
   "source": [
    "predtr = Predictor(w_path=\"/content/3D-printing-defect-cls/weights/w_model_stand_fine_tuning_15.pth\")"
   ],
   "id": "ap5_jYIOxN_4"
  },
  {
   "cell_type": "code",
   "execution_count": null,
   "metadata": {
    "colab": {
     "base_uri": "https://localhost:8080/",
     "height": 827
    },
    "id": "ZHD3Qu6klclH",
    "outputId": "862c2ff3-2e60-45ab-a8df-6fef7185227b"
   },
   "outputs": [],
   "source": [
    "for i in TP_exmp:\n",
    "  pred, probs = predtr.inference(cv2.imread(i), resize_to=(600, 600))\n",
    "  predtr.plot_res(cv2.imread(i), pred=pred, probs=probs, resize_to_scale=2)\n"
   ],
   "id": "ZHD3Qu6klclH"
  },
  {
   "cell_type": "code",
   "execution_count": null,
   "metadata": {
    "colab": {
     "base_uri": "https://localhost:8080/",
     "height": 844
    },
    "id": "oa5coSp6lg_r",
    "outputId": "988ad75a-b329-475a-caf8-762d827b698f"
   },
   "outputs": [],
   "source": [
    "for i in TN_exmp:\n",
    "  pred, probs = predtr.inference(cv2.imread(i), resize_to=(600, 600))\n",
    "  print(pred)\n",
    "  predtr.plot_res(cv2.imread(i), pred=pred, probs=probs, resize_to_scale=2)\n"
   ],
   "id": "oa5coSp6lg_r"
  },
  {
   "cell_type": "code",
   "execution_count": null,
   "metadata": {
    "colab": {
     "base_uri": "https://localhost:8080/",
     "height": 1000
    },
    "id": "GNI3wXKYX7MA",
    "outputId": "2cd2bd2d-cbe6-4927-b17f-ab41f89e32f0"
   },
   "outputs": [],
   "source": [
    "for i in FP_exmp:\n",
    "  pred, probs = predtr.inference(cv2.imread(i), resize_to=(600, 600))\n",
    "  predtr.plot_res(cv2.imread(i), pred=pred, probs=probs, resize_to_scale=2)\n"
   ],
   "id": "GNI3wXKYX7MA"
  },
  {
   "cell_type": "code",
   "execution_count": null,
   "metadata": {
    "colab": {
     "base_uri": "https://localhost:8080/",
     "height": 1000
    },
    "id": "t3PslTcBX9rL",
    "outputId": "a1c0857b-8b90-46d3-90a8-96d352a7909c"
   },
   "outputs": [],
   "source": [
    "for i in FN_exmp:\n",
    "  img = cv2.imread(i)\n",
    "  # pred, probs = predtr.inference(cv2.imread(i), resize_to=(600, 600))\n",
    "  img = cv2.resize(img, (600, 600))\n",
    "\n",
    "  tensor = transforms.ToTensor()(img)\n",
    "  tensor = transforms.Normalize([0.485, 0.456, 0.406], [0.229, 0.224, 0.225])(tensor)\n",
    "  tensor = tensor.unsqueeze(0)\n",
    "  tensor = tensor.to(device)\n",
    "  probs = model_fn(tensor)\n",
    "  probs = probs.cpu().detach()\n",
    "  _, prediction = torch.max(probs, 1)\n",
    "  prediction = prediction.numpy()\n",
    "  probs = probs.numpy()\n",
    "  print(prediction)\n",
    "  predtr.plot_res(cv2.imread(i), pred=prediction[0], probs=probs[0], resize_to_scale=2)"
   ],
   "id": "t3PslTcBX9rL"
  },
  {
   "cell_type": "markdown",
   "metadata": {
    "id": "2B0F_4D-E7Gj"
   },
   "source": [
    "## WITHOUT FINE TUNING"
   ],
   "id": "2B0F_4D-E7Gj"
  },
  {
   "cell_type": "code",
   "execution_count": null,
   "metadata": {
    "id": "6la0-pI7JRic"
   },
   "outputs": [],
   "source": [
    "model = models.alexnet(pretrained=False)"
   ],
   "id": "6la0-pI7JRic"
  },
  {
   "cell_type": "code",
   "execution_count": null,
   "metadata": {
    "id": "zKa4Its6JRii"
   },
   "outputs": [],
   "source": [
    "# set number of conv layers to unfreeze\n",
    "# layers_to_unfreeze = 5\n",
    "\n",
    "# turn off gradients on non-trainable layers\n",
    "# for param in model_fn.features[:-layers_to_unfreeze].parameters():\n",
    "#     param.requires_grad = False\n",
    "    \n",
    "# num_features - feature vector size passed to FC layer\n",
    "num_features = 9216\n",
    "\n",
    "# change fully-connected layer to our linear classifier\n",
    "model.classifier = nn.Sequential(\n",
    "    nn.Dropout(p=0.5, inplace=False),\n",
    "    nn.Linear(num_features, 2, bias=True),\n",
    "    nn.Softmax(),\n",
    ")\n",
    "# send model to device\n",
    "model = model.to(device)\n",
    "\n",
    "# use cross-entropy as cost function\n",
    "loss_fn = nn.CrossEntropyLoss()\n",
    "\n",
    "\n",
    "optimizer = torch.optim.Adam(params=[\n",
    "        # {\"params\": list(model_fn.features.parameters())[-layers_to_unfreeze:], \"lr\": 1e-5, \"weight_decay\": 1e-5},\n",
    "        {\"params\": list(model.features.parameters()), \"lr\": 1e-5, \"weight_decay\": 1e-5},\n",
    "        {\"params\": list(model.classifier.parameters()), \"lr\": 1e-4, \"weight_decay\": 1e-5}                              \n",
    "])\n",
    "\n",
    "# multiplies learning_rate by 0.1 every 7 epochs\n",
    "exp_lr_scheduler = lr_scheduler.StepLR(optimizer, step_size=10, gamma=0.1)"
   ],
   "id": "zKa4Its6JRii"
  },
  {
   "cell_type": "code",
   "execution_count": null,
   "metadata": {
    "colab": {
     "base_uri": "https://localhost:8080/"
    },
    "id": "FBGzCGp5JRij",
    "outputId": "7705c6c9-af36-42b4-efcb-ca10ceb3063c"
   },
   "outputs": [],
   "source": [
    "from torchinfo import summary\n",
    "\n",
    "summary(model, input_size=(4, 3, 600, 600))"
   ],
   "id": "FBGzCGp5JRij"
  },
  {
   "cell_type": "code",
   "execution_count": null,
   "metadata": {
    "colab": {
     "base_uri": "https://localhost:8080/"
    },
    "id": "jtD4VpqdJRij",
    "outputId": "3d5dc805-0310-4bbe-8730-f8ec60780e8e"
   },
   "outputs": [],
   "source": [
    "model"
   ],
   "id": "jtD4VpqdJRij"
  },
  {
   "cell_type": "code",
   "execution_count": null,
   "metadata": {
    "colab": {
     "base_uri": "https://localhost:8080/"
    },
    "id": "4G07ULo5JRij",
    "outputId": "4d31989f-f155-4bc4-b284-e1a5885828a0"
   },
   "outputs": [],
   "source": [
    "model, losses, accuracy, f1, precision, recall, f1_exmp_best, f1_exmp_best_15 = train_model(model, dataloaders_stand, dataset_stand_sizes, loss_fn, optimizer, exp_lr_scheduler, num_epochs=40)"
   ],
   "id": "4G07ULo5JRij"
  },
  {
   "cell_type": "code",
   "execution_count": null,
   "metadata": {
    "id": "mkDU57fRrhd5"
   },
   "outputs": [],
   "source": [
    "torch.save(model.state_dict(), \"/content/3D-printing-defect-cls/weights/w_model_stand.pth\")"
   ],
   "id": "mkDU57fRrhd5"
  },
  {
   "cell_type": "markdown",
   "metadata": {
    "id": "q_wm_-RoKPpq"
   },
   "source": [
    "## PLOT GRAPHS"
   ],
   "id": "q_wm_-RoKPpq"
  },
  {
   "cell_type": "code",
   "execution_count": null,
   "metadata": {
    "colab": {
     "base_uri": "https://localhost:8080/",
     "height": 532
    },
    "id": "Uw5uHCYwKT8M",
    "outputId": "aa845e22-2569-42be-a8f9-466d8fcd78a2"
   },
   "outputs": [],
   "source": [
    "plot_graph_with_fine_tuning(losses, losses_fn, title=\"Функция потерь\", xlabel='epoch', ylabel='loss')"
   ],
   "id": "Uw5uHCYwKT8M"
  },
  {
   "cell_type": "code",
   "execution_count": null,
   "metadata": {
    "colab": {
     "base_uri": "https://localhost:8080/",
     "height": 532
    },
    "id": "vcWhooSnLXnH",
    "outputId": "dff3b9d9-75e2-4ab0-ab1d-f54dfeb8bce5"
   },
   "outputs": [],
   "source": [
    "plot_graph_with_fine_tuning(accuracy, accuracy_fn, title=\"Аккуратность, точность\", xlabel='epoch', ylabel='accuracy')"
   ],
   "id": "vcWhooSnLXnH"
  },
  {
   "cell_type": "code",
   "execution_count": null,
   "metadata": {
    "colab": {
     "base_uri": "https://localhost:8080/",
     "height": 532
    },
    "id": "OMfzQ1aeLY94",
    "outputId": "498f370c-8bea-4817-8671-6c3f030a798d"
   },
   "outputs": [],
   "source": [
    "plot_graph_with_fine_tuning(f1, f1_fn, title=\"F1-score (среднее гармоническое Precision и Recall)\", xlabel='epoch', ylabel='F1-score')"
   ],
   "id": "OMfzQ1aeLY94"
  },
  {
   "cell_type": "code",
   "execution_count": null,
   "metadata": {
    "colab": {
     "base_uri": "https://localhost:8080/",
     "height": 532
    },
    "id": "483q0v6BLaF9",
    "outputId": "48b24040-767b-4a0a-e2af-15245f99f5ed"
   },
   "outputs": [],
   "source": [
    "plot_graph_with_fine_tuning(precision, precision_fn, title=\"Точность\", xlabel='epoch', ylabel='precision')"
   ],
   "id": "483q0v6BLaF9"
  },
  {
   "cell_type": "code",
   "execution_count": null,
   "metadata": {
    "colab": {
     "base_uri": "https://localhost:8080/",
     "height": 532
    },
    "id": "VUYx1A88LbGT",
    "outputId": "ce954f71-13c8-4d67-dc21-4fb95282d0fc"
   },
   "outputs": [],
   "source": [
    "plot_graph_with_fine_tuning(recall, recall_fn, title=\"Полнота\", xlabel='epoch', ylabel='recall')"
   ],
   "id": "VUYx1A88LbGT"
  },
  {
   "cell_type": "code",
   "execution_count": null,
   "metadata": {
    "id": "kZg5t15C_PGe"
   },
   "outputs": [],
   "source": [
    "predtr = Predictor(w_path=\"/content/3D-printing-defect-cls/weights/w_model_stand.pth\")"
   ],
   "id": "kZg5t15C_PGe"
  },
  {
   "cell_type": "code",
   "execution_count": null,
   "metadata": {
    "id": "-giF7Aja_0D5"
   },
   "outputs": [],
   "source": [
    "TN_exmp, FN_exmp, TP_exmp, FP_exmp = f1_exmp_best"
   ],
   "id": "-giF7Aja_0D5"
  },
  {
   "cell_type": "code",
   "execution_count": null,
   "metadata": {
    "id": "Et5ky8Pl_PGf"
   },
   "outputs": [],
   "source": [
    "for i in FP_exmp:\n",
    "  pred, probs = predtr.inference(cv2.imread(i), resize_to=(600, 600))\n",
    "  predtr.plot_res(cv2.imread(i), pred=pred, probs=probs, resize_to_scale=2)\n"
   ],
   "id": "Et5ky8Pl_PGf"
  },
  {
   "cell_type": "code",
   "execution_count": null,
   "metadata": {
    "id": "HZT9H8p9_PGf"
   },
   "outputs": [],
   "source": [
    "for i in FN_exmp:\n",
    "  pred, probs = predtr.inference(cv2.imread(i), resize_to=(600, 600))\n",
    "  predtr.plot_res(cv2.imread(i), pred=pred, probs=probs, resize_to_scale=2)"
   ],
   "id": "HZT9H8p9_PGf"
  },
  {
   "cell_type": "markdown",
   "metadata": {
    "id": "hTSHyVKKERuL"
   },
   "source": [
    "# SYNTH"
   ],
   "id": "hTSHyVKKERuL"
  },
  {
   "cell_type": "code",
   "execution_count": null,
   "metadata": {
    "colab": {
     "base_uri": "https://localhost:8080/"
    },
    "id": "gmMrxL8j3Iat",
    "outputId": "740eba83-5d7e-4a5b-9d2c-078ce85e6a2e"
   },
   "outputs": [],
   "source": [
    "list_files(\"/content/3D-printing-defect-cls/data/DS_synth_bin\")"
   ],
   "id": "gmMrxL8j3Iat"
  },
  {
   "cell_type": "code",
   "execution_count": null,
   "metadata": {
    "colab": {
     "base_uri": "https://localhost:8080/"
    },
    "id": "G-DghdhyAiyT",
    "outputId": "8573b963-9e29-416e-b349-b64d2571cfde"
   },
   "outputs": [],
   "source": [
    "list_files(\"/content/3D-printing-defect-cls/data/DS_test_bin_flipped_replaced\")"
   ],
   "id": "G-DghdhyAiyT"
  },
  {
   "cell_type": "code",
   "execution_count": null,
   "metadata": {
    "id": "QQ4UIIbpETcA"
   },
   "outputs": [],
   "source": [
    "dir_split = \"/content/3D-printing-defect-cls/data/DS_synth_bin_split\"\n",
    "os.makedirs(dir_split, exist_ok=True)\n",
    "shutil.rmtree(dir_split)\n",
    "os.makedirs(dir_split, exist_ok=True)\n",
    "\n",
    "train_imgs, valid_imgs = train_test_split(glob(\"/content/3D-printing-defect-cls/data/DS_synth_bin/*/*\"), test_size=0.2, random_state=42)\n",
    "\n",
    "for l, sub_ds in zip((\"train\", \"valid\"), (train_imgs, valid_imgs)):\n",
    "  l_dir_split = osp.join(dir_split, l)\n",
    "  os.makedirs(l_dir_split, exist_ok=True)\n",
    "  for cls in (\"YesDefects\", \"NoDefects\"):\n",
    "    cls_l_dir_split = osp.join(l_dir_split, cls)\n",
    "    os.makedirs(cls_l_dir_split, exist_ok=True)\n",
    "    for i in sub_ds:\n",
    "      if osp.basename(osp.dirname(i)) == cls:\n",
    "        shutil.copy(i, cls_l_dir_split)\n"
   ],
   "id": "QQ4UIIbpETcA"
  },
  {
   "cell_type": "code",
   "execution_count": null,
   "metadata": {
    "colab": {
     "base_uri": "https://localhost:8080/"
    },
    "id": "EXP-pnLp1sZn",
    "outputId": "9957267d-2fd0-442f-d8c6-287680a9797d"
   },
   "outputs": [],
   "source": [
    "list_files(\"/content/3D-printing-defect-cls/data/DS_synth_bin_split\")"
   ],
   "id": "EXP-pnLp1sZn"
  },
  {
   "cell_type": "code",
   "execution_count": null,
   "metadata": {
    "id": "OU-8vLan32GK"
   },
   "outputs": [],
   "source": [
    "# Augmenting only train data\n",
    "data_transforms = {\n",
    "    'train': transforms.Compose([\n",
    "        transforms.Resize((600, 800)),\n",
    "        transforms.ColorJitter(brightness=.3, hue=.5, contrast=.1, saturation=.1),\n",
    "        transforms.RandomRotation(degrees=30),\n",
    "        transforms.RandomPerspective(distortion_scale=.3, p=.7),\n",
    "        transforms.RandomHorizontalFlip(p=.5),\n",
    "        transforms.ToTensor(),\n",
    "        transforms.Normalize([0.485, 0.456, 0.406], [0.229, 0.224, 0.225]),\n",
    "        transforms.RandomErasing(p=.3, scale=(0.01, 0.02))\n",
    "    ]),\n",
    "    'valid': transforms.Compose([\n",
    "        transforms.Resize((600, 800)),\n",
    "        transforms.ToTensor(),\n",
    "        transforms.Normalize([0.485, 0.456, 0.406], [0.229, 0.224, 0.225])\n",
    "    ]),\n",
    "}"
   ],
   "id": "OU-8vLan32GK"
  },
  {
   "cell_type": "code",
   "execution_count": null,
   "metadata": {
    "colab": {
     "base_uri": "https://localhost:8080/"
    },
    "id": "q8fwNGeBETcB",
    "outputId": "be0b86d4-485c-4de7-fb42-039abb61f818"
   },
   "outputs": [],
   "source": [
    "# Folder with data\n",
    "data_dir_synth = '/content/3D-printing-defect-cls/data/DS_synth_bin_split'\n",
    "image_datasets_synth = {folder: ImageFolderPath(os.path.join(data_dir_synth, folder),\n",
    "                                          data_transforms[folder])\n",
    "                  for folder in ['train', 'valid']}\n",
    "\n",
    "# Class for loading data as batches\n",
    "dataloaders_synth = {folder: DataLoader(image_datasets_synth[folder], batch_size=BATCH_SIZE,\n",
    "                                              shuffle=True, num_workers=NUM_WORKERS)\n",
    "               for folder in ['train', 'valid']}\n",
    "\n",
    "dataset_synth_sizes = {folder: len(image_datasets_synth[folder]) for folder in ['train', 'valid']}\n",
    "class_names = image_datasets_synth['train'].classes\n",
    "dataset_synth_sizes"
   ],
   "id": "q8fwNGeBETcB"
  },
  {
   "cell_type": "code",
   "execution_count": null,
   "metadata": {
    "colab": {
     "base_uri": "https://localhost:8080/"
    },
    "id": "s_yhn7KAqCKP",
    "outputId": "1de65b1a-a24b-4b84-ac32-c52c8477c627"
   },
   "outputs": [],
   "source": [
    "# Folder with data\n",
    "data_dir_synth = '/content/3D-printing-defect-cls/data/DS_test_bin_flipped_replaced'\n",
    "image_datasets_synth[\"test\"] = ImageFolderPath(data_dir_synth, data_transforms[\"valid\"])\n",
    "\n",
    "# Class for loading data as batches\n",
    "dataloaders_synth[\"test\"] = DataLoader(image_datasets_synth[\"test\"], batch_size=BATCH_SIZE, shuffle=False, num_workers=NUM_WORKERS)\n",
    "\n",
    "dataset_synth_sizes[\"test\"] = len(image_datasets_synth[\"test\"])\n",
    "dataset_synth_sizes"
   ],
   "id": "s_yhn7KAqCKP"
  },
  {
   "cell_type": "code",
   "execution_count": null,
   "metadata": {
    "id": "W42F59UlwB1T"
   },
   "outputs": [],
   "source": [
    "import cv2\n",
    "from matplotlib import pyplot as plt\n",
    "\n",
    "fig = plt.figure(figsize=(20, 14))\n",
    "\n",
    "rows = 2\n",
    "columns = 2\n",
    "fontsize = 40\n",
    "base_dir = \"/content/3D-printing-defect-cls/data/DS_synth_bin_split/train/\"\n",
    "\n",
    "\n",
    "imgs_plot = ['NoDefects/0_95502ea5-c82e-473d-b846-6f04d92bfedb_33_25_190_0.9.png',\n",
    "             'YesDefects/aa1f733e-b78a-4c5e-ae5b-fa92b650806d_ls_x_0.16667_10.0_33_20_210_0.7.png',\n",
    "             'YesDefects/image_2022-05-17_02-00-21.png',\n",
    "             'YesDefects/image_2022-05-17_02-00-27.png',\n",
    "             ]\n",
    "\n",
    "images = [cv2.imread(osp.join(base_dir, i))[:, :, ::-1] for i in imgs_plot]\n",
    "\n",
    "for i in range(1, 5):\n",
    "  fig.add_subplot(rows, columns, i)\n",
    "\n",
    "  lbl = osp.basename(osp.dirname(imgs_plot[i-1]))\n",
    "\n",
    "  plt.imshow(images[i-1])\n",
    "  plt.axis('off')\n",
    "  plt.title(lbl, fontsize=fontsize)\n"
   ],
   "id": "W42F59UlwB1T"
  },
  {
   "cell_type": "code",
   "execution_count": null,
   "metadata": {
    "id": "nRv9fS6ewB1U"
   },
   "outputs": [],
   "source": [
    "import cv2\n",
    "from matplotlib import pyplot as plt\n",
    "\n",
    "fig = plt.figure(figsize=(20, 14))\n",
    "\n",
    "rows = 2\n",
    "columns = 2\n",
    "fontsize = 40\n",
    "\n",
    "def to_np(inp):\n",
    "  inp = inp.numpy().transpose((1, 2, 0))\n",
    "  mean = np.array([0.485, 0.456, 0.406])\n",
    "  std = np.array([0.229, 0.224, 0.225])\n",
    "  inp = std * inp + mean\n",
    "  inp = np.clip(inp, 0, 1)\n",
    "  return inp\n",
    "\n",
    "aug_plot_dir = \"/content/3D-printing-defect-cls/test_aug_synth\"\n",
    "os.makedirs(aug_plot_dir, exist_ok=True)\n",
    "shutil.rmtree(aug_plot_dir)\n",
    "os.makedirs(aug_plot_dir, exist_ok=True)\n",
    "\n",
    "for i in imgs_plot:\n",
    "  i = osp.join(base_dir, i)\n",
    "  cls = osp.basename(osp.dirname(i))\n",
    "  cls_l_dir_split = osp.join(aug_plot_dir, cls)\n",
    "  os.makedirs(cls_l_dir_split, exist_ok=True)\n",
    "  shutil.copy(i, cls_l_dir_split)\n",
    "\n",
    "ifp = ImageFolderPath(aug_plot_dir, data_transforms[\"train\"])\n",
    "dl_ifp = DataLoader(ifp, batch_size=BATCH_SIZE, shuffle=False, num_workers=NUM_WORKERS)\n",
    "inputs, classes, paths = next(iter(dl_ifp))\n",
    "\n",
    "for i in range(1, 5):\n",
    "  fig.add_subplot(rows, columns, i)\n",
    "\n",
    "  lbl = osp.basename(osp.dirname(paths[i-1]))\n",
    "\n",
    "  plt.imshow(to_np(inputs[i-1]))\n",
    "  plt.axis('off')\n",
    "  plt.title(lbl, fontsize=fontsize)\n"
   ],
   "id": "nRv9fS6ewB1U"
  },
  {
   "cell_type": "code",
   "execution_count": null,
   "metadata": {
    "id": "uuOKX16Q3Y6f"
   },
   "outputs": [],
   "source": [
    "import os.path as osp\n",
    "import cv2\n",
    "from matplotlib import pyplot as plt\n",
    "\n",
    "fig = plt.figure(figsize=(20, 14))\n",
    "\n",
    "rows = 3\n",
    "columns = 3\n",
    "fontsize = 40\n",
    "base_dir = \"/content/3D-printing-defect-cls/data/DS_test_bin_flipped_replaced/\"\n",
    "\n",
    "imgs_plot = ['NoDefects/IMG_20220512_000058.jpg',\n",
    "             'NoDefects/IMG_20220512_000456.jpg',\n",
    "             'YesDefects/IMG_20220512_000015.jpg',\n",
    "             'YesDefects/IMG_20220512_001409.jpg',\n",
    "             'YesDefects/IMG_20220511_235910.jpg',\n",
    "             'YesDefects/IMG_20220511_235656.jpg',\n",
    "             'YesDefects/IMG_20220511_235654.jpg',\n",
    "             'YesDefects/IMG_20220512_000346.jpg',\n",
    "             'YesDefects/IMG_20220511_235758.jpg',\n",
    "             ]\n",
    "\n",
    "images = [cv2.imread(osp.join(base_dir, i))[:, :, ::-1] for i in imgs_plot]\n",
    "\n",
    "for i in range(1, 10):\n",
    "  fig.add_subplot(rows, columns, i)\n",
    "\n",
    "  lbl = osp.basename(osp.dirname(imgs_plot[i-1]))\n",
    "\n",
    "  plt.imshow(images[i-1])\n",
    "  plt.axis('off')\n",
    "  plt.title(lbl, fontsize=fontsize)\n"
   ],
   "id": "uuOKX16Q3Y6f"
  },
  {
   "cell_type": "code",
   "execution_count": null,
   "metadata": {
    "colab": {
     "base_uri": "https://localhost:8080/",
     "height": 66,
     "referenced_widgets": [
      "1e467f22e7bf4379bf0ef41d3c0304be",
      "9d62377e84464c1aa9ee1669c151ca18",
      "000ff3003b4747b28ae4853e599f1414",
      "30aebe1d56cc4ce3ae753574756f58ec",
      "b2a734befc4947898410e1e798aee1b8",
      "951e64f6ef3d4a9ba060db5e2c9fd50f",
      "1343fe9bbb64460cab3b4a14778cc6e9",
      "3b3e435a88b94a0f91d1214cdb295d10",
      "e8514636089e4ef58d287f4e4a2613fe",
      "438fcb87a5a442b9a04636c97dc8059a",
      "a0b9cf885dbe42f88b47aa896b27c744"
     ]
    },
    "id": "XXcVvup-otcy",
    "outputId": "f302ab5f-1775-4c99-a4eb-b6e4ac81a2ad"
   },
   "outputs": [],
   "source": [
    "model_synth = models.alexnet(pretrained=True)"
   ],
   "id": "XXcVvup-otcy"
  },
  {
   "cell_type": "code",
   "execution_count": null,
   "metadata": {
    "id": "N08HfL4-pZMd"
   },
   "outputs": [],
   "source": [
    "# set number of conv layers to unfreeze\n",
    "layers_to_unfreeze = 5\n",
    "\n",
    "# turn off gradients on non-trainable layers\n",
    "for param in model_synth.features[:-layers_to_unfreeze].parameters():\n",
    "    param.requires_grad = False\n",
    "    \n",
    "# num_features - feature vector size passed to FC layer\n",
    "num_features = 9216\n",
    "\n",
    "# change fully-connected layer to our linear classifier\n",
    "model_synth.classifier = nn.Sequential(\n",
    "    nn.Dropout(p=0.5, inplace=False),\n",
    "    nn.Linear(num_features, 2, bias=True),\n",
    "    nn.Softmax(),\n",
    ")\n",
    "# send model to device\n",
    "model_synth = model_synth.to(device)\n",
    "\n",
    "# use cross-entropy as cost function\n",
    "loss_fn = nn.CrossEntropyLoss()\n",
    "\n",
    "\n",
    "optimizer = torch.optim.Adam(params=[\n",
    "        {\"params\": list(model_synth.features.parameters())[-layers_to_unfreeze:], \"lr\": 1e-5, \"weight_decay\": 1e-5},\n",
    "        # {\"params\": list(model.features.parameters()), \"lr\": 1e-5, \"weight_decay\": 1e-5},\n",
    "        {\"params\": list(model_synth.classifier.parameters()), \"lr\": 1e-4, \"weight_decay\": 1e-5}                              \n",
    "])\n",
    "\n",
    "# multiplies learning_rate by 0.1 every 7 epochs\n",
    "exp_lr_scheduler = lr_scheduler.StepLR(optimizer, step_size=10, gamma=0.1)"
   ],
   "id": "N08HfL4-pZMd"
  },
  {
   "cell_type": "code",
   "execution_count": null,
   "metadata": {
    "colab": {
     "base_uri": "https://localhost:8080/"
    },
    "id": "1X9m4Zj3pZMk",
    "outputId": "18900ab3-95c3-4d80-a584-067057c61ee1"
   },
   "outputs": [],
   "source": [
    "from torchinfo import summary\n",
    "\n",
    "summary(model_synth, input_size=(4, 3, 600, 600)), model_synth"
   ],
   "id": "1X9m4Zj3pZMk"
  },
  {
   "cell_type": "code",
   "execution_count": null,
   "metadata": {
    "id": "2sOfDTWLzlXj"
   },
   "outputs": [],
   "source": [
    "def train_model(model, dataloaders, ds_sizes, criterion, optimizer, scheduler, num_epochs=40):\n",
    "    since = time.time()\n",
    "\n",
    "    best_model_wts = model.state_dict()\n",
    "    n_best_eph = 0\n",
    "    f1_exmp_best = {'train': [], \"valid\": [], \"test\": []}\n",
    "    best_f1 = 0.0\n",
    "    best_preds_all = {'train': [], \"valid\": [], \"test\": []}\n",
    "    best_lbls_all = {'train': [], \"valid\": [], \"test\": []}\n",
    "\n",
    "    losses = {'train': [], \"valid\": [], \"test\": []}\n",
    "    accuracy = {'train': [], \"valid\": [], \"test\": []}\n",
    "    f1 = {'train': [], \"valid\": [], \"test\": []}\n",
    "    precision = {'train': [], \"valid\": [], \"test\": []}\n",
    "    recall = {'train': [], \"valid\": [], \"test\": []}\n",
    "    \n",
    "    for epoch in tqdm_notebook(range(1, num_epochs+1)):\n",
    "        preds_all = {'train': [], \"valid\": [], \"test\": []}\n",
    "        lbls_all = {'train': [], \"valid\": [], \"test\": []}\n",
    "        imgs_all = {'train': [], \"valid\": [], \"test\": []}\n",
    "\n",
    "        print('Epoch {}/{}'.format(epoch, num_epochs))\n",
    "        print('-' * 10)\n",
    "        \n",
    "        # Train and valid phase for each epoch\n",
    "        for phase in ['train', 'valid', 'test']:\n",
    "            if phase == 'train':\n",
    "                model.train()  # setting model to train mode`\n",
    "            else:\n",
    "                model.eval()\n",
    "\n",
    "            running_loss = 0.0\n",
    "            running_corrects = 0\n",
    "            \n",
    "            # Iterate over data.\n",
    "            for inputs, labels, paths in dataloaders[phase]:\n",
    "                inputs = inputs.to(device)\n",
    "                labels = labels.to(device)\n",
    "\n",
    "                # forward\n",
    "                # track history if only in train\n",
    "                with torch.set_grad_enabled(phase == 'train'):\n",
    "                    outputs = model(inputs)\n",
    "                    _, preds = torch.max(outputs, 1)\n",
    "                    loss = criterion(outputs, labels)\n",
    "\n",
    "                    # backward + optimize only if in training phase\n",
    "                    if phase == 'train':\n",
    "                        optimizer.zero_grad()\n",
    "                        loss.backward()\n",
    "                        optimizer.step()\n",
    "\n",
    "                running_loss += loss.cpu().detach().numpy()\n",
    "\n",
    "                preds = preds.cpu().detach().numpy()\n",
    "                labels = labels.cpu().detach().numpy()\n",
    "                running_corrects += np.sum(preds == labels)\n",
    "                preds_ = [1-l if p > 1 else p for p, l in zip(preds, labels)]\n",
    "                preds_all[phase].extend(preds_)\n",
    "                lbls_all[phase].extend(list(labels))\n",
    "\n",
    "                if phase == 'test':\n",
    "                  imgs_all[phase].extend(paths)\n",
    "            \n",
    "            \n",
    "            if phase == 'test':\n",
    "                TP_exmp, FP_exmp, TN_exmp, FN_exmp = getTPFPTNFN_X(lbls_all[phase], preds_all[phase], imgs_all[phase])\n",
    "        \n",
    "            plot_confusion_matrix(lbls_all[phase], preds_all[phase], phase)\n",
    "\n",
    "            if phase == 'train':\n",
    "                scheduler.step()\n",
    "\n",
    "            epoch_loss = running_loss / ds_sizes[phase]\n",
    "            epoch_acc = running_corrects / ds_sizes[phase]\n",
    "            epoch_f1 = f1_score(lbls_all[phase], preds_all[phase], pos_label=0)\n",
    "            epoch_precision = precision_score(lbls_all[phase], preds_all[phase], pos_label=0)\n",
    "            epoch_recall = recall_score(lbls_all[phase], preds_all[phase], pos_label=0)               \n",
    "            \n",
    "            \n",
    "            losses[phase].append(epoch_loss)\n",
    "            accuracy[phase].append(epoch_acc)\n",
    "            f1[phase].append(epoch_f1)\n",
    "            precision[phase].append(epoch_precision)\n",
    "            recall[phase].append(epoch_recall)\n",
    "            \n",
    "            print(f'{phase} Loss: {epoch_loss:.4f} Acc: {epoch_acc:.4f} f1: {epoch_f1:.4f} recall: {epoch_recall:.4f} precision: {epoch_precision:.4f}')\n",
    "\n",
    "            if phase == 'test' and epoch_f1 >= best_f1:\n",
    "                best_f1 = epoch_f1\n",
    "                best_model_w = copy.deepcopy(model.state_dict())\n",
    "                best_preds_all = preds_all\n",
    "                best_lbls_all = lbls_all\n",
    "                n_best_eph = epoch\n",
    "                f1_exmp_best = [TP_exmp, FP_exmp, TN_exmp, FN_exmp]\n",
    "\n",
    "    time_elapsed = time.time() - since\n",
    "    te_ = time_elapsed // 60\n",
    "    te__ = time_elapsed % 60\n",
    "    print(f'Training completed in {te_:.0f}m {te__:.0f}s')\n",
    "    \n",
    "\n",
    "    print(f'Best test f1: {best_f1:4f}, epoch: {n_best_eph}')\n",
    "    \n",
    "    for ph in (\"train\", \"valid\", \"test\"):\n",
    "        plot_confusion_matrix(best_lbls_all[ph], best_preds_all[ph], ph)\n",
    "\n",
    "    model.load_state_dict(best_model_w)\n",
    "    return model, losses, accuracy, f1, precision, recall, f1_exmp_best"
   ],
   "id": "2sOfDTWLzlXj"
  },
  {
   "cell_type": "code",
   "execution_count": null,
   "metadata": {
    "colab": {
     "base_uri": "https://localhost:8080/",
     "height": 1000,
     "referenced_widgets": [
      "2eae2fa75d654094860e7822fd4575ee",
      "b8afc7ac07ae42018712254c83dc9197",
      "1c090e1c51d74eca83344815b4904ea3",
      "0a3f4d18ad1f40b3bd8953a51264360f",
      "78fa4d8468ab447cb0b2a7f3e0e6c68e",
      "312f406b1f5e4383a2c33c78176ffc5c",
      "f61142ca12c54fcdaa5b3fef5bf245af",
      "bbdfca1f546d435b9da33aa1e915b290",
      "531964465c9f423a9ec24bf4be40f070",
      "baba3f602ee84643993be0b5b0fdf7f2",
      "e1e544295ee04f9d9446d33d72117505"
     ]
    },
    "id": "D_Ej1IEmpZMk",
    "outputId": "64c1d3c3-b356-4a11-cadb-fa717b61c76d"
   },
   "outputs": [],
   "source": [
    "model_synth, losses_synth, accuracy_synth, f1_synth, precision_synth, recall_synth, f1_exmp_best_synth = train_model(model_synth, dataloaders_synth, dataset_synth_sizes, loss_fn, optimizer, exp_lr_scheduler, num_epochs=10)"
   ],
   "id": "D_Ej1IEmpZMk"
  },
  {
   "cell_type": "code",
   "execution_count": null,
   "metadata": {
    "id": "uqFqvo9UrWlX"
   },
   "outputs": [],
   "source": [
    "torch.save(model_synth.state_dict(), \"/content/3D-printing-defect-cls/weights/w_model_synth_fine_tuning.pth\")"
   ],
   "id": "uqFqvo9UrWlX"
  },
  {
   "cell_type": "code",
   "execution_count": null,
   "metadata": {
    "id": "gwRZa08epZMl"
   },
   "outputs": [],
   "source": [
    "def evaluate(model, dataloader, name_loader, ds_size):\n",
    "    accuracy = []\n",
    "    f1 = []\n",
    "    precision = []\n",
    "    recall = []\n",
    "    preds_all = []\n",
    "    lbls_all = []\n",
    "    imgs_all = []\n",
    "    running_loss = 0.0\n",
    "    running_corrects = 0\n",
    "\n",
    "    model.eval()\n",
    "    \n",
    "    for data in dataloader:\n",
    "\n",
    "        inputs, labels, paths = data\n",
    "        \n",
    "        inputs = inputs.to(device)\n",
    "        labels = labels.to(device)\n",
    "            \n",
    "        # forward pass\n",
    "        output = model(inputs)\n",
    "        _, preds = torch.max(output, 1)\n",
    "\n",
    "        preds = preds.cpu().detach().numpy()\n",
    "        labels = labels.cpu().detach().numpy()\n",
    "        running_corrects += np.sum(preds == labels)\n",
    "        preds_ = [1-p if p > 1 else p for p, l in zip(preds, labels)]\n",
    "        preds_all.extend(preds_)\n",
    "        lbls_all.extend(list(labels))\n",
    "        imgs_all.extend(paths)\n",
    "\n",
    "    plot_confusion_matrix(lbls_all, preds_all, name_loader)\n",
    "    epoch_acc = running_corrects / ds_size\n",
    "    epoch_f1 = f1_score(lbls_all, preds_all, pos_label=0)\n",
    "    epoch_precision = precision_score(lbls_all, preds_all, pos_label=0)\n",
    "    epoch_recall = recall_score(lbls_all, preds_all, pos_label=0)\n",
    "\n",
    "    print(f'{name_loader} Acc: {epoch_acc:.4f} f1: {epoch_f1:.4f} recall: {epoch_recall:.4f} precision: {epoch_precision:.4f}')\n",
    "    matr = getTPFPTNFN_X(lbls_all, preds_all, imgs_all)\n",
    "    return epoch_acc, epoch_f1, epoch_precision, epoch_recall, matr"
   ],
   "id": "gwRZa08epZMl"
  },
  {
   "cell_type": "code",
   "execution_count": null,
   "metadata": {
    "colab": {
     "base_uri": "https://localhost:8080/",
     "height": 364
    },
    "id": "hwUERjappZMl",
    "outputId": "f611544d-6e35-4968-fd22-8d912dc94ad8"
   },
   "outputs": [],
   "source": [
    "out = evaluate(model_synth, dataloaders_synth['test'], 'test', dataset_synth_sizes['test'])"
   ],
   "id": "hwUERjappZMl"
  },
  {
   "cell_type": "code",
   "execution_count": null,
   "metadata": {
    "colab": {
     "base_uri": "https://localhost:8080/",
     "height": 532
    },
    "id": "NeJcI85rpZMl",
    "outputId": "f0563bda-5431-4a46-b932-6b91614912c8"
   },
   "outputs": [],
   "source": [
    "plot_graph(losses_synth, title=\"Функция потерь\", xlabel='epoch', ylabel='loss')"
   ],
   "id": "NeJcI85rpZMl"
  },
  {
   "cell_type": "code",
   "execution_count": null,
   "metadata": {
    "colab": {
     "base_uri": "https://localhost:8080/",
     "height": 532
    },
    "id": "PHEKp50OpZMl",
    "outputId": "6ae37f0c-7085-4e6c-9f94-2dccbe8b858a"
   },
   "outputs": [],
   "source": [
    "plot_graph(accuracy_synth, title=\"Аккуратность, точность\", xlabel='epoch', ylabel='accuracy')"
   ],
   "id": "PHEKp50OpZMl"
  },
  {
   "cell_type": "code",
   "execution_count": null,
   "metadata": {
    "colab": {
     "base_uri": "https://localhost:8080/",
     "height": 532
    },
    "id": "pKOmc7rfpZMl",
    "outputId": "8ad2ba8d-1f57-432e-dc3e-043e0310a10d"
   },
   "outputs": [],
   "source": [
    "plot_graph(f1_synth, title=\"F1-score (среднее гармоническое Precision и Recall)\", xlabel='epoch', ylabel='F1-score')"
   ],
   "id": "pKOmc7rfpZMl"
  },
  {
   "cell_type": "code",
   "execution_count": null,
   "metadata": {
    "colab": {
     "base_uri": "https://localhost:8080/",
     "height": 532
    },
    "id": "vVJLLQrmpZMl",
    "outputId": "836b2a31-29d9-4f67-ca33-5bab0f14da69"
   },
   "outputs": [],
   "source": [
    "plot_graph(precision_synth, title=\"Точность\", xlabel='epoch', ylabel='precision')"
   ],
   "id": "vVJLLQrmpZMl"
  },
  {
   "cell_type": "code",
   "execution_count": null,
   "metadata": {
    "colab": {
     "base_uri": "https://localhost:8080/",
     "height": 532
    },
    "id": "QPVbWxRvpZMm",
    "outputId": "b6a09379-c9ad-4e9c-d8ad-b00f66ca10f5"
   },
   "outputs": [],
   "source": [
    "plot_graph(recall_synth, title=\"Полнота\", xlabel='epoch', ylabel='recall')"
   ],
   "id": "QPVbWxRvpZMm"
  },
  {
   "cell_type": "code",
   "execution_count": null,
   "metadata": {
    "id": "j3dGCGZppZMm"
   },
   "outputs": [],
   "source": [
    "TN_exmp, FN_exmp, TP_exmp, FP_exmp = f1_exmp_best_synth"
   ],
   "id": "j3dGCGZppZMm"
  },
  {
   "cell_type": "code",
   "execution_count": null,
   "metadata": {
    "id": "dd0hs26S_UAy"
   },
   "outputs": [],
   "source": [
    "predtr = Predictor(w_path=\"/content/3D-printing-defect-cls/weights/w_model_synth_fine_tuning.pth\")"
   ],
   "id": "dd0hs26S_UAy"
  },
  {
   "cell_type": "code",
   "execution_count": null,
   "metadata": {
    "colab": {
     "base_uri": "https://localhost:8080/",
     "height": 827
    },
    "id": "5MLkWVhvFE8S",
    "outputId": "04b23ee1-5430-4f94-e0a8-60f9e60fb017"
   },
   "outputs": [],
   "source": [
    "for i in TP_exmp[:1]:\n",
    "  pred, probs = predtr.inference(cv2.imread(i), resize_to=(600, 800))\n",
    "  predtr.plot_res(cv2.imread(i), pred=pred, probs=probs, resize_to_scale=2)\n"
   ],
   "id": "5MLkWVhvFE8S"
  },
  {
   "cell_type": "code",
   "execution_count": null,
   "metadata": {
    "colab": {
     "base_uri": "https://localhost:8080/",
     "height": 827
    },
    "id": "O2we79psFINr",
    "outputId": "de80a2ec-fd37-4ba5-8684-799238e4d469"
   },
   "outputs": [],
   "source": [
    "for i in TN_exmp[:1]:\n",
    "  pred, probs = predtr.inference(cv2.imread(i), resize_to=(600, 800))\n",
    "  predtr.plot_res(cv2.imread(i), pred=pred, probs=probs, resize_to_scale=2)\n"
   ],
   "id": "O2we79psFINr"
  },
  {
   "cell_type": "code",
   "execution_count": null,
   "metadata": {
    "colab": {
     "base_uri": "https://localhost:8080/",
     "height": 1000
    },
    "id": "fZvRlK8s_UAz",
    "outputId": "af642e44-3cdd-4e6b-ec68-74ceb4adc7f1"
   },
   "outputs": [],
   "source": [
    "for i in FP_exmp:\n",
    "  pred, probs = predtr.inference(cv2.imread(i), resize_to=(600, 800))\n",
    "  predtr.plot_res(cv2.imread(i), pred=pred, probs=probs, resize_to_scale=2)\n"
   ],
   "id": "fZvRlK8s_UAz"
  },
  {
   "cell_type": "code",
   "execution_count": null,
   "metadata": {
    "id": "yljiq7Tr_UAz"
   },
   "outputs": [],
   "source": [
    "for i in FN_exmp:\n",
    "  pred, probs = predtr.inference(cv2.imread(i), resize_to=(600, 800))\n",
    "  predtr.plot_res(cv2.imread(i), pred=pred, probs=probs, resize_to_scale=2)"
   ],
   "id": "yljiq7Tr_UAz"
  }
 ],
 "metadata": {
  "colab": {
   "collapsed_sections": [
    "2B0F_4D-E7Gj"
   ],
   "machine_shape": "hm",
   "name": "3d_printing_defect_detection_report.ipynb",
   "provenance": []
  },
  "gpuClass": "standard",
  "kernelspec": {
   "display_name": "Python 3",
   "language": "python",
   "name": "python3"
  },
  "language_info": {
   "codemirror_mode": {
    "name": "ipython",
    "version": 3
   },
   "file_extension": ".py",
   "mimetype": "text/x-python",
   "name": "python",
   "nbconvert_exporter": "python",
   "pygments_lexer": "ipython3",
   "version": "3.7.10"
  },
  "papermill": {
   "default_parameters": {},
   "duration": 1921.742088,
   "end_time": "2021-08-18T10:27:53.039459",
   "environment_variables": {},
   "exception": null,
   "input_path": "__notebook__.ipynb",
   "output_path": "__notebook__.ipynb",
   "parameters": {},
   "start_time": "2021-08-18T09:55:51.297371",
   "version": "2.3.3"
  },
  "widgets": {
   "application/vnd.jupyter.widget-state+json": {
    "000ff3003b4747b28ae4853e599f1414": {
     "model_module": "@jupyter-widgets/controls",
     "model_module_version": "1.5.0",
     "model_name": "FloatProgressModel",
     "state": {
      "_dom_classes": [],
      "_model_module": "@jupyter-widgets/controls",
      "_model_module_version": "1.5.0",
      "_model_name": "FloatProgressModel",
      "_view_count": null,
      "_view_module": "@jupyter-widgets/controls",
      "_view_module_version": "1.5.0",
      "_view_name": "ProgressView",
      "bar_style": "success",
      "description": "",
      "description_tooltip": null,
      "layout": "IPY_MODEL_3b3e435a88b94a0f91d1214cdb295d10",
      "max": 244408911,
      "min": 0,
      "orientation": "horizontal",
      "style": "IPY_MODEL_e8514636089e4ef58d287f4e4a2613fe",
      "value": 244408911
     }
    },
    "0a3f4d18ad1f40b3bd8953a51264360f": {
     "model_module": "@jupyter-widgets/controls",
     "model_module_version": "1.5.0",
     "model_name": "HTMLModel",
     "state": {
      "_dom_classes": [],
      "_model_module": "@jupyter-widgets/controls",
      "_model_module_version": "1.5.0",
      "_model_name": "HTMLModel",
      "_view_count": null,
      "_view_module": "@jupyter-widgets/controls",
      "_view_module_version": "1.5.0",
      "_view_name": "HTMLView",
      "description": "",
      "description_tooltip": null,
      "layout": "IPY_MODEL_baba3f602ee84643993be0b5b0fdf7f2",
      "placeholder": "​",
      "style": "IPY_MODEL_e1e544295ee04f9d9446d33d72117505",
      "value": " 10/10 [15:40&lt;00:00, 93.68s/it]"
     }
    },
    "0b80562d94504f5f956506eda776e764": {
     "model_module": "@jupyter-widgets/controls",
     "model_module_version": "1.5.0",
     "model_name": "DescriptionStyleModel",
     "state": {
      "_model_module": "@jupyter-widgets/controls",
      "_model_module_version": "1.5.0",
      "_model_name": "DescriptionStyleModel",
      "_view_count": null,
      "_view_module": "@jupyter-widgets/base",
      "_view_module_version": "1.2.0",
      "_view_name": "StyleView",
      "description_width": ""
     }
    },
    "0edd777c93d448e298fddff85a80148a": {
     "model_module": "@jupyter-widgets/controls",
     "model_module_version": "1.5.0",
     "model_name": "DescriptionStyleModel",
     "state": {
      "_model_module": "@jupyter-widgets/controls",
      "_model_module_version": "1.5.0",
      "_model_name": "DescriptionStyleModel",
      "_view_count": null,
      "_view_module": "@jupyter-widgets/base",
      "_view_module_version": "1.2.0",
      "_view_name": "StyleView",
      "description_width": ""
     }
    },
    "108afe6f1aab493f88b5c1a2450c7b1c": {
     "model_module": "@jupyter-widgets/controls",
     "model_module_version": "1.5.0",
     "model_name": "ProgressStyleModel",
     "state": {
      "_model_module": "@jupyter-widgets/controls",
      "_model_module_version": "1.5.0",
      "_model_name": "ProgressStyleModel",
      "_view_count": null,
      "_view_module": "@jupyter-widgets/base",
      "_view_module_version": "1.2.0",
      "_view_name": "StyleView",
      "bar_color": null,
      "description_width": ""
     }
    },
    "1343fe9bbb64460cab3b4a14778cc6e9": {
     "model_module": "@jupyter-widgets/controls",
     "model_module_version": "1.5.0",
     "model_name": "DescriptionStyleModel",
     "state": {
      "_model_module": "@jupyter-widgets/controls",
      "_model_module_version": "1.5.0",
      "_model_name": "DescriptionStyleModel",
      "_view_count": null,
      "_view_module": "@jupyter-widgets/base",
      "_view_module_version": "1.2.0",
      "_view_name": "StyleView",
      "description_width": ""
     }
    },
    "1c090e1c51d74eca83344815b4904ea3": {
     "model_module": "@jupyter-widgets/controls",
     "model_module_version": "1.5.0",
     "model_name": "FloatProgressModel",
     "state": {
      "_dom_classes": [],
      "_model_module": "@jupyter-widgets/controls",
      "_model_module_version": "1.5.0",
      "_model_name": "FloatProgressModel",
      "_view_count": null,
      "_view_module": "@jupyter-widgets/controls",
      "_view_module_version": "1.5.0",
      "_view_name": "ProgressView",
      "bar_style": "success",
      "description": "",
      "description_tooltip": null,
      "layout": "IPY_MODEL_bbdfca1f546d435b9da33aa1e915b290",
      "max": 10,
      "min": 0,
      "orientation": "horizontal",
      "style": "IPY_MODEL_531964465c9f423a9ec24bf4be40f070",
      "value": 10
     }
    },
    "1e467f22e7bf4379bf0ef41d3c0304be": {
     "model_module": "@jupyter-widgets/controls",
     "model_module_version": "1.5.0",
     "model_name": "HBoxModel",
     "state": {
      "_dom_classes": [],
      "_model_module": "@jupyter-widgets/controls",
      "_model_module_version": "1.5.0",
      "_model_name": "HBoxModel",
      "_view_count": null,
      "_view_module": "@jupyter-widgets/controls",
      "_view_module_version": "1.5.0",
      "_view_name": "HBoxView",
      "box_style": "",
      "children": [
       "IPY_MODEL_9d62377e84464c1aa9ee1669c151ca18",
       "IPY_MODEL_000ff3003b4747b28ae4853e599f1414",
       "IPY_MODEL_30aebe1d56cc4ce3ae753574756f58ec"
      ],
      "layout": "IPY_MODEL_b2a734befc4947898410e1e798aee1b8"
     }
    },
    "25e8e6e704594cb98a0234ed66590b3c": {
     "model_module": "@jupyter-widgets/base",
     "model_module_version": "1.2.0",
     "model_name": "LayoutModel",
     "state": {
      "_model_module": "@jupyter-widgets/base",
      "_model_module_version": "1.2.0",
      "_model_name": "LayoutModel",
      "_view_count": null,
      "_view_module": "@jupyter-widgets/base",
      "_view_module_version": "1.2.0",
      "_view_name": "LayoutView",
      "align_content": null,
      "align_items": null,
      "align_self": null,
      "border": null,
      "bottom": null,
      "display": null,
      "flex": null,
      "flex_flow": null,
      "grid_area": null,
      "grid_auto_columns": null,
      "grid_auto_flow": null,
      "grid_auto_rows": null,
      "grid_column": null,
      "grid_gap": null,
      "grid_row": null,
      "grid_template_areas": null,
      "grid_template_columns": null,
      "grid_template_rows": null,
      "height": null,
      "justify_content": null,
      "justify_items": null,
      "left": null,
      "margin": null,
      "max_height": null,
      "max_width": null,
      "min_height": null,
      "min_width": null,
      "object_fit": null,
      "object_position": null,
      "order": null,
      "overflow": null,
      "overflow_x": null,
      "overflow_y": null,
      "padding": null,
      "right": null,
      "top": null,
      "visibility": null,
      "width": null
     }
    },
    "2eae2fa75d654094860e7822fd4575ee": {
     "model_module": "@jupyter-widgets/controls",
     "model_module_version": "1.5.0",
     "model_name": "HBoxModel",
     "state": {
      "_dom_classes": [],
      "_model_module": "@jupyter-widgets/controls",
      "_model_module_version": "1.5.0",
      "_model_name": "HBoxModel",
      "_view_count": null,
      "_view_module": "@jupyter-widgets/controls",
      "_view_module_version": "1.5.0",
      "_view_name": "HBoxView",
      "box_style": "",
      "children": [
       "IPY_MODEL_b8afc7ac07ae42018712254c83dc9197",
       "IPY_MODEL_1c090e1c51d74eca83344815b4904ea3",
       "IPY_MODEL_0a3f4d18ad1f40b3bd8953a51264360f"
      ],
      "layout": "IPY_MODEL_78fa4d8468ab447cb0b2a7f3e0e6c68e"
     }
    },
    "30aebe1d56cc4ce3ae753574756f58ec": {
     "model_module": "@jupyter-widgets/controls",
     "model_module_version": "1.5.0",
     "model_name": "HTMLModel",
     "state": {
      "_dom_classes": [],
      "_model_module": "@jupyter-widgets/controls",
      "_model_module_version": "1.5.0",
      "_model_name": "HTMLModel",
      "_view_count": null,
      "_view_module": "@jupyter-widgets/controls",
      "_view_module_version": "1.5.0",
      "_view_name": "HTMLView",
      "description": "",
      "description_tooltip": null,
      "layout": "IPY_MODEL_438fcb87a5a442b9a04636c97dc8059a",
      "placeholder": "​",
      "style": "IPY_MODEL_a0b9cf885dbe42f88b47aa896b27c744",
      "value": " 233M/233M [00:04&lt;00:00, 78.7MB/s]"
     }
    },
    "312f406b1f5e4383a2c33c78176ffc5c": {
     "model_module": "@jupyter-widgets/base",
     "model_module_version": "1.2.0",
     "model_name": "LayoutModel",
     "state": {
      "_model_module": "@jupyter-widgets/base",
      "_model_module_version": "1.2.0",
      "_model_name": "LayoutModel",
      "_view_count": null,
      "_view_module": "@jupyter-widgets/base",
      "_view_module_version": "1.2.0",
      "_view_name": "LayoutView",
      "align_content": null,
      "align_items": null,
      "align_self": null,
      "border": null,
      "bottom": null,
      "display": null,
      "flex": null,
      "flex_flow": null,
      "grid_area": null,
      "grid_auto_columns": null,
      "grid_auto_flow": null,
      "grid_auto_rows": null,
      "grid_column": null,
      "grid_gap": null,
      "grid_row": null,
      "grid_template_areas": null,
      "grid_template_columns": null,
      "grid_template_rows": null,
      "height": null,
      "justify_content": null,
      "justify_items": null,
      "left": null,
      "margin": null,
      "max_height": null,
      "max_width": null,
      "min_height": null,
      "min_width": null,
      "object_fit": null,
      "object_position": null,
      "order": null,
      "overflow": null,
      "overflow_x": null,
      "overflow_y": null,
      "padding": null,
      "right": null,
      "top": null,
      "visibility": null,
      "width": null
     }
    },
    "36bf880bd9104709b956b06a1dc5dc0d": {
     "model_module": "@jupyter-widgets/controls",
     "model_module_version": "1.5.0",
     "model_name": "HBoxModel",
     "state": {
      "_dom_classes": [],
      "_model_module": "@jupyter-widgets/controls",
      "_model_module_version": "1.5.0",
      "_model_name": "HBoxModel",
      "_view_count": null,
      "_view_module": "@jupyter-widgets/controls",
      "_view_module_version": "1.5.0",
      "_view_name": "HBoxView",
      "box_style": "",
      "children": [
       "IPY_MODEL_ac1ab05662fe4bd1ac734c8d3a1a21c5",
       "IPY_MODEL_606e177ddf9747c7922b99d515349a91",
       "IPY_MODEL_e5a39647e8754a9b841b9a5a924db9ca"
      ],
      "layout": "IPY_MODEL_41380dd75ea8470e97a0ab1d96e1d77f"
     }
    },
    "3b3e435a88b94a0f91d1214cdb295d10": {
     "model_module": "@jupyter-widgets/base",
     "model_module_version": "1.2.0",
     "model_name": "LayoutModel",
     "state": {
      "_model_module": "@jupyter-widgets/base",
      "_model_module_version": "1.2.0",
      "_model_name": "LayoutModel",
      "_view_count": null,
      "_view_module": "@jupyter-widgets/base",
      "_view_module_version": "1.2.0",
      "_view_name": "LayoutView",
      "align_content": null,
      "align_items": null,
      "align_self": null,
      "border": null,
      "bottom": null,
      "display": null,
      "flex": null,
      "flex_flow": null,
      "grid_area": null,
      "grid_auto_columns": null,
      "grid_auto_flow": null,
      "grid_auto_rows": null,
      "grid_column": null,
      "grid_gap": null,
      "grid_row": null,
      "grid_template_areas": null,
      "grid_template_columns": null,
      "grid_template_rows": null,
      "height": null,
      "justify_content": null,
      "justify_items": null,
      "left": null,
      "margin": null,
      "max_height": null,
      "max_width": null,
      "min_height": null,
      "min_width": null,
      "object_fit": null,
      "object_position": null,
      "order": null,
      "overflow": null,
      "overflow_x": null,
      "overflow_y": null,
      "padding": null,
      "right": null,
      "top": null,
      "visibility": null,
      "width": null
     }
    },
    "3e6e902cd92d42e9af386712431ca429": {
     "model_module": "@jupyter-widgets/base",
     "model_module_version": "1.2.0",
     "model_name": "LayoutModel",
     "state": {
      "_model_module": "@jupyter-widgets/base",
      "_model_module_version": "1.2.0",
      "_model_name": "LayoutModel",
      "_view_count": null,
      "_view_module": "@jupyter-widgets/base",
      "_view_module_version": "1.2.0",
      "_view_name": "LayoutView",
      "align_content": null,
      "align_items": null,
      "align_self": null,
      "border": null,
      "bottom": null,
      "display": null,
      "flex": null,
      "flex_flow": null,
      "grid_area": null,
      "grid_auto_columns": null,
      "grid_auto_flow": null,
      "grid_auto_rows": null,
      "grid_column": null,
      "grid_gap": null,
      "grid_row": null,
      "grid_template_areas": null,
      "grid_template_columns": null,
      "grid_template_rows": null,
      "height": null,
      "justify_content": null,
      "justify_items": null,
      "left": null,
      "margin": null,
      "max_height": null,
      "max_width": null,
      "min_height": null,
      "min_width": null,
      "object_fit": null,
      "object_position": null,
      "order": null,
      "overflow": null,
      "overflow_x": null,
      "overflow_y": null,
      "padding": null,
      "right": null,
      "top": null,
      "visibility": null,
      "width": null
     }
    },
    "41380dd75ea8470e97a0ab1d96e1d77f": {
     "model_module": "@jupyter-widgets/base",
     "model_module_version": "1.2.0",
     "model_name": "LayoutModel",
     "state": {
      "_model_module": "@jupyter-widgets/base",
      "_model_module_version": "1.2.0",
      "_model_name": "LayoutModel",
      "_view_count": null,
      "_view_module": "@jupyter-widgets/base",
      "_view_module_version": "1.2.0",
      "_view_name": "LayoutView",
      "align_content": null,
      "align_items": null,
      "align_self": null,
      "border": null,
      "bottom": null,
      "display": null,
      "flex": null,
      "flex_flow": null,
      "grid_area": null,
      "grid_auto_columns": null,
      "grid_auto_flow": null,
      "grid_auto_rows": null,
      "grid_column": null,
      "grid_gap": null,
      "grid_row": null,
      "grid_template_areas": null,
      "grid_template_columns": null,
      "grid_template_rows": null,
      "height": null,
      "justify_content": null,
      "justify_items": null,
      "left": null,
      "margin": null,
      "max_height": null,
      "max_width": null,
      "min_height": null,
      "min_width": null,
      "object_fit": null,
      "object_position": null,
      "order": null,
      "overflow": null,
      "overflow_x": null,
      "overflow_y": null,
      "padding": null,
      "right": null,
      "top": null,
      "visibility": null,
      "width": null
     }
    },
    "438fcb87a5a442b9a04636c97dc8059a": {
     "model_module": "@jupyter-widgets/base",
     "model_module_version": "1.2.0",
     "model_name": "LayoutModel",
     "state": {
      "_model_module": "@jupyter-widgets/base",
      "_model_module_version": "1.2.0",
      "_model_name": "LayoutModel",
      "_view_count": null,
      "_view_module": "@jupyter-widgets/base",
      "_view_module_version": "1.2.0",
      "_view_name": "LayoutView",
      "align_content": null,
      "align_items": null,
      "align_self": null,
      "border": null,
      "bottom": null,
      "display": null,
      "flex": null,
      "flex_flow": null,
      "grid_area": null,
      "grid_auto_columns": null,
      "grid_auto_flow": null,
      "grid_auto_rows": null,
      "grid_column": null,
      "grid_gap": null,
      "grid_row": null,
      "grid_template_areas": null,
      "grid_template_columns": null,
      "grid_template_rows": null,
      "height": null,
      "justify_content": null,
      "justify_items": null,
      "left": null,
      "margin": null,
      "max_height": null,
      "max_width": null,
      "min_height": null,
      "min_width": null,
      "object_fit": null,
      "object_position": null,
      "order": null,
      "overflow": null,
      "overflow_x": null,
      "overflow_y": null,
      "padding": null,
      "right": null,
      "top": null,
      "visibility": null,
      "width": null
     }
    },
    "531964465c9f423a9ec24bf4be40f070": {
     "model_module": "@jupyter-widgets/controls",
     "model_module_version": "1.5.0",
     "model_name": "ProgressStyleModel",
     "state": {
      "_model_module": "@jupyter-widgets/controls",
      "_model_module_version": "1.5.0",
      "_model_name": "ProgressStyleModel",
      "_view_count": null,
      "_view_module": "@jupyter-widgets/base",
      "_view_module_version": "1.2.0",
      "_view_name": "StyleView",
      "bar_color": null,
      "description_width": ""
     }
    },
    "606e177ddf9747c7922b99d515349a91": {
     "model_module": "@jupyter-widgets/controls",
     "model_module_version": "1.5.0",
     "model_name": "FloatProgressModel",
     "state": {
      "_dom_classes": [],
      "_model_module": "@jupyter-widgets/controls",
      "_model_module_version": "1.5.0",
      "_model_name": "FloatProgressModel",
      "_view_count": null,
      "_view_module": "@jupyter-widgets/controls",
      "_view_module_version": "1.5.0",
      "_view_name": "ProgressView",
      "bar_style": "success",
      "description": "",
      "description_tooltip": null,
      "layout": "IPY_MODEL_e1d97d9ac2b64a4b8227305ff5a15a3b",
      "max": 244408911,
      "min": 0,
      "orientation": "horizontal",
      "style": "IPY_MODEL_9177a370c0154e13b4b2a6d80b7f601b",
      "value": 244408911
     }
    },
    "6502f87e50be4d6e9e5277c81fd9c89c": {
     "model_module": "@jupyter-widgets/controls",
     "model_module_version": "1.5.0",
     "model_name": "DescriptionStyleModel",
     "state": {
      "_model_module": "@jupyter-widgets/controls",
      "_model_module_version": "1.5.0",
      "_model_name": "DescriptionStyleModel",
      "_view_count": null,
      "_view_module": "@jupyter-widgets/base",
      "_view_module_version": "1.2.0",
      "_view_name": "StyleView",
      "description_width": ""
     }
    },
    "6b909ddcbfb24ef3a21608e2b8ec0ce8": {
     "model_module": "@jupyter-widgets/base",
     "model_module_version": "1.2.0",
     "model_name": "LayoutModel",
     "state": {
      "_model_module": "@jupyter-widgets/base",
      "_model_module_version": "1.2.0",
      "_model_name": "LayoutModel",
      "_view_count": null,
      "_view_module": "@jupyter-widgets/base",
      "_view_module_version": "1.2.0",
      "_view_name": "LayoutView",
      "align_content": null,
      "align_items": null,
      "align_self": null,
      "border": null,
      "bottom": null,
      "display": null,
      "flex": null,
      "flex_flow": null,
      "grid_area": null,
      "grid_auto_columns": null,
      "grid_auto_flow": null,
      "grid_auto_rows": null,
      "grid_column": null,
      "grid_gap": null,
      "grid_row": null,
      "grid_template_areas": null,
      "grid_template_columns": null,
      "grid_template_rows": null,
      "height": null,
      "justify_content": null,
      "justify_items": null,
      "left": null,
      "margin": null,
      "max_height": null,
      "max_width": null,
      "min_height": null,
      "min_width": null,
      "object_fit": null,
      "object_position": null,
      "order": null,
      "overflow": null,
      "overflow_x": null,
      "overflow_y": null,
      "padding": null,
      "right": null,
      "top": null,
      "visibility": null,
      "width": null
     }
    },
    "78fa4d8468ab447cb0b2a7f3e0e6c68e": {
     "model_module": "@jupyter-widgets/base",
     "model_module_version": "1.2.0",
     "model_name": "LayoutModel",
     "state": {
      "_model_module": "@jupyter-widgets/base",
      "_model_module_version": "1.2.0",
      "_model_name": "LayoutModel",
      "_view_count": null,
      "_view_module": "@jupyter-widgets/base",
      "_view_module_version": "1.2.0",
      "_view_name": "LayoutView",
      "align_content": null,
      "align_items": null,
      "align_self": null,
      "border": null,
      "bottom": null,
      "display": null,
      "flex": null,
      "flex_flow": null,
      "grid_area": null,
      "grid_auto_columns": null,
      "grid_auto_flow": null,
      "grid_auto_rows": null,
      "grid_column": null,
      "grid_gap": null,
      "grid_row": null,
      "grid_template_areas": null,
      "grid_template_columns": null,
      "grid_template_rows": null,
      "height": null,
      "justify_content": null,
      "justify_items": null,
      "left": null,
      "margin": null,
      "max_height": null,
      "max_width": null,
      "min_height": null,
      "min_width": null,
      "object_fit": null,
      "object_position": null,
      "order": null,
      "overflow": null,
      "overflow_x": null,
      "overflow_y": null,
      "padding": null,
      "right": null,
      "top": null,
      "visibility": null,
      "width": null
     }
    },
    "9177a370c0154e13b4b2a6d80b7f601b": {
     "model_module": "@jupyter-widgets/controls",
     "model_module_version": "1.5.0",
     "model_name": "ProgressStyleModel",
     "state": {
      "_model_module": "@jupyter-widgets/controls",
      "_model_module_version": "1.5.0",
      "_model_name": "ProgressStyleModel",
      "_view_count": null,
      "_view_module": "@jupyter-widgets/base",
      "_view_module_version": "1.2.0",
      "_view_name": "StyleView",
      "bar_color": null,
      "description_width": ""
     }
    },
    "951e64f6ef3d4a9ba060db5e2c9fd50f": {
     "model_module": "@jupyter-widgets/base",
     "model_module_version": "1.2.0",
     "model_name": "LayoutModel",
     "state": {
      "_model_module": "@jupyter-widgets/base",
      "_model_module_version": "1.2.0",
      "_model_name": "LayoutModel",
      "_view_count": null,
      "_view_module": "@jupyter-widgets/base",
      "_view_module_version": "1.2.0",
      "_view_name": "LayoutView",
      "align_content": null,
      "align_items": null,
      "align_self": null,
      "border": null,
      "bottom": null,
      "display": null,
      "flex": null,
      "flex_flow": null,
      "grid_area": null,
      "grid_auto_columns": null,
      "grid_auto_flow": null,
      "grid_auto_rows": null,
      "grid_column": null,
      "grid_gap": null,
      "grid_row": null,
      "grid_template_areas": null,
      "grid_template_columns": null,
      "grid_template_rows": null,
      "height": null,
      "justify_content": null,
      "justify_items": null,
      "left": null,
      "margin": null,
      "max_height": null,
      "max_width": null,
      "min_height": null,
      "min_width": null,
      "object_fit": null,
      "object_position": null,
      "order": null,
      "overflow": null,
      "overflow_x": null,
      "overflow_y": null,
      "padding": null,
      "right": null,
      "top": null,
      "visibility": null,
      "width": null
     }
    },
    "96e2011875d14c20ab387834db83c883": {
     "model_module": "@jupyter-widgets/controls",
     "model_module_version": "1.5.0",
     "model_name": "HBoxModel",
     "state": {
      "_dom_classes": [],
      "_model_module": "@jupyter-widgets/controls",
      "_model_module_version": "1.5.0",
      "_model_name": "HBoxModel",
      "_view_count": null,
      "_view_module": "@jupyter-widgets/controls",
      "_view_module_version": "1.5.0",
      "_view_name": "HBoxView",
      "box_style": "",
      "children": [
       "IPY_MODEL_ab70dba9a91448969ba784b3be396e3c",
       "IPY_MODEL_f2785159aae444bb820eaeae00ff2cc3",
       "IPY_MODEL_9718249727044a0eaf36531282e5b8a3"
      ],
      "layout": "IPY_MODEL_c1b727df2b1347f8a3e891f0e61eac6f"
     }
    },
    "9718249727044a0eaf36531282e5b8a3": {
     "model_module": "@jupyter-widgets/controls",
     "model_module_version": "1.5.0",
     "model_name": "HTMLModel",
     "state": {
      "_dom_classes": [],
      "_model_module": "@jupyter-widgets/controls",
      "_model_module_version": "1.5.0",
      "_model_name": "HTMLModel",
      "_view_count": null,
      "_view_module": "@jupyter-widgets/controls",
      "_view_module_version": "1.5.0",
      "_view_name": "HTMLView",
      "description": "",
      "description_tooltip": null,
      "layout": "IPY_MODEL_6b909ddcbfb24ef3a21608e2b8ec0ce8",
      "placeholder": "​",
      "style": "IPY_MODEL_6502f87e50be4d6e9e5277c81fd9c89c",
      "value": " 40/40 [11:04&lt;00:00, 16.50s/it]"
     }
    },
    "9d62377e84464c1aa9ee1669c151ca18": {
     "model_module": "@jupyter-widgets/controls",
     "model_module_version": "1.5.0",
     "model_name": "HTMLModel",
     "state": {
      "_dom_classes": [],
      "_model_module": "@jupyter-widgets/controls",
      "_model_module_version": "1.5.0",
      "_model_name": "HTMLModel",
      "_view_count": null,
      "_view_module": "@jupyter-widgets/controls",
      "_view_module_version": "1.5.0",
      "_view_name": "HTMLView",
      "description": "",
      "description_tooltip": null,
      "layout": "IPY_MODEL_951e64f6ef3d4a9ba060db5e2c9fd50f",
      "placeholder": "​",
      "style": "IPY_MODEL_1343fe9bbb64460cab3b4a14778cc6e9",
      "value": "100%"
     }
    },
    "a0b9cf885dbe42f88b47aa896b27c744": {
     "model_module": "@jupyter-widgets/controls",
     "model_module_version": "1.5.0",
     "model_name": "DescriptionStyleModel",
     "state": {
      "_model_module": "@jupyter-widgets/controls",
      "_model_module_version": "1.5.0",
      "_model_name": "DescriptionStyleModel",
      "_view_count": null,
      "_view_module": "@jupyter-widgets/base",
      "_view_module_version": "1.2.0",
      "_view_name": "StyleView",
      "description_width": ""
     }
    },
    "ab02fcf822d044118a61bae958133aea": {
     "model_module": "@jupyter-widgets/base",
     "model_module_version": "1.2.0",
     "model_name": "LayoutModel",
     "state": {
      "_model_module": "@jupyter-widgets/base",
      "_model_module_version": "1.2.0",
      "_model_name": "LayoutModel",
      "_view_count": null,
      "_view_module": "@jupyter-widgets/base",
      "_view_module_version": "1.2.0",
      "_view_name": "LayoutView",
      "align_content": null,
      "align_items": null,
      "align_self": null,
      "border": null,
      "bottom": null,
      "display": null,
      "flex": null,
      "flex_flow": null,
      "grid_area": null,
      "grid_auto_columns": null,
      "grid_auto_flow": null,
      "grid_auto_rows": null,
      "grid_column": null,
      "grid_gap": null,
      "grid_row": null,
      "grid_template_areas": null,
      "grid_template_columns": null,
      "grid_template_rows": null,
      "height": null,
      "justify_content": null,
      "justify_items": null,
      "left": null,
      "margin": null,
      "max_height": null,
      "max_width": null,
      "min_height": null,
      "min_width": null,
      "object_fit": null,
      "object_position": null,
      "order": null,
      "overflow": null,
      "overflow_x": null,
      "overflow_y": null,
      "padding": null,
      "right": null,
      "top": null,
      "visibility": null,
      "width": null
     }
    },
    "ab70dba9a91448969ba784b3be396e3c": {
     "model_module": "@jupyter-widgets/controls",
     "model_module_version": "1.5.0",
     "model_name": "HTMLModel",
     "state": {
      "_dom_classes": [],
      "_model_module": "@jupyter-widgets/controls",
      "_model_module_version": "1.5.0",
      "_model_name": "HTMLModel",
      "_view_count": null,
      "_view_module": "@jupyter-widgets/controls",
      "_view_module_version": "1.5.0",
      "_view_name": "HTMLView",
      "description": "",
      "description_tooltip": null,
      "layout": "IPY_MODEL_3e6e902cd92d42e9af386712431ca429",
      "placeholder": "​",
      "style": "IPY_MODEL_0b80562d94504f5f956506eda776e764",
      "value": "100%"
     }
    },
    "ac1ab05662fe4bd1ac734c8d3a1a21c5": {
     "model_module": "@jupyter-widgets/controls",
     "model_module_version": "1.5.0",
     "model_name": "HTMLModel",
     "state": {
      "_dom_classes": [],
      "_model_module": "@jupyter-widgets/controls",
      "_model_module_version": "1.5.0",
      "_model_name": "HTMLModel",
      "_view_count": null,
      "_view_module": "@jupyter-widgets/controls",
      "_view_module_version": "1.5.0",
      "_view_name": "HTMLView",
      "description": "",
      "description_tooltip": null,
      "layout": "IPY_MODEL_25e8e6e704594cb98a0234ed66590b3c",
      "placeholder": "​",
      "style": "IPY_MODEL_0edd777c93d448e298fddff85a80148a",
      "value": "100%"
     }
    },
    "b2a734befc4947898410e1e798aee1b8": {
     "model_module": "@jupyter-widgets/base",
     "model_module_version": "1.2.0",
     "model_name": "LayoutModel",
     "state": {
      "_model_module": "@jupyter-widgets/base",
      "_model_module_version": "1.2.0",
      "_model_name": "LayoutModel",
      "_view_count": null,
      "_view_module": "@jupyter-widgets/base",
      "_view_module_version": "1.2.0",
      "_view_name": "LayoutView",
      "align_content": null,
      "align_items": null,
      "align_self": null,
      "border": null,
      "bottom": null,
      "display": null,
      "flex": null,
      "flex_flow": null,
      "grid_area": null,
      "grid_auto_columns": null,
      "grid_auto_flow": null,
      "grid_auto_rows": null,
      "grid_column": null,
      "grid_gap": null,
      "grid_row": null,
      "grid_template_areas": null,
      "grid_template_columns": null,
      "grid_template_rows": null,
      "height": null,
      "justify_content": null,
      "justify_items": null,
      "left": null,
      "margin": null,
      "max_height": null,
      "max_width": null,
      "min_height": null,
      "min_width": null,
      "object_fit": null,
      "object_position": null,
      "order": null,
      "overflow": null,
      "overflow_x": null,
      "overflow_y": null,
      "padding": null,
      "right": null,
      "top": null,
      "visibility": null,
      "width": null
     }
    },
    "b8afc7ac07ae42018712254c83dc9197": {
     "model_module": "@jupyter-widgets/controls",
     "model_module_version": "1.5.0",
     "model_name": "HTMLModel",
     "state": {
      "_dom_classes": [],
      "_model_module": "@jupyter-widgets/controls",
      "_model_module_version": "1.5.0",
      "_model_name": "HTMLModel",
      "_view_count": null,
      "_view_module": "@jupyter-widgets/controls",
      "_view_module_version": "1.5.0",
      "_view_name": "HTMLView",
      "description": "",
      "description_tooltip": null,
      "layout": "IPY_MODEL_312f406b1f5e4383a2c33c78176ffc5c",
      "placeholder": "​",
      "style": "IPY_MODEL_f61142ca12c54fcdaa5b3fef5bf245af",
      "value": "100%"
     }
    },
    "baba3f602ee84643993be0b5b0fdf7f2": {
     "model_module": "@jupyter-widgets/base",
     "model_module_version": "1.2.0",
     "model_name": "LayoutModel",
     "state": {
      "_model_module": "@jupyter-widgets/base",
      "_model_module_version": "1.2.0",
      "_model_name": "LayoutModel",
      "_view_count": null,
      "_view_module": "@jupyter-widgets/base",
      "_view_module_version": "1.2.0",
      "_view_name": "LayoutView",
      "align_content": null,
      "align_items": null,
      "align_self": null,
      "border": null,
      "bottom": null,
      "display": null,
      "flex": null,
      "flex_flow": null,
      "grid_area": null,
      "grid_auto_columns": null,
      "grid_auto_flow": null,
      "grid_auto_rows": null,
      "grid_column": null,
      "grid_gap": null,
      "grid_row": null,
      "grid_template_areas": null,
      "grid_template_columns": null,
      "grid_template_rows": null,
      "height": null,
      "justify_content": null,
      "justify_items": null,
      "left": null,
      "margin": null,
      "max_height": null,
      "max_width": null,
      "min_height": null,
      "min_width": null,
      "object_fit": null,
      "object_position": null,
      "order": null,
      "overflow": null,
      "overflow_x": null,
      "overflow_y": null,
      "padding": null,
      "right": null,
      "top": null,
      "visibility": null,
      "width": null
     }
    },
    "bbdfca1f546d435b9da33aa1e915b290": {
     "model_module": "@jupyter-widgets/base",
     "model_module_version": "1.2.0",
     "model_name": "LayoutModel",
     "state": {
      "_model_module": "@jupyter-widgets/base",
      "_model_module_version": "1.2.0",
      "_model_name": "LayoutModel",
      "_view_count": null,
      "_view_module": "@jupyter-widgets/base",
      "_view_module_version": "1.2.0",
      "_view_name": "LayoutView",
      "align_content": null,
      "align_items": null,
      "align_self": null,
      "border": null,
      "bottom": null,
      "display": null,
      "flex": null,
      "flex_flow": null,
      "grid_area": null,
      "grid_auto_columns": null,
      "grid_auto_flow": null,
      "grid_auto_rows": null,
      "grid_column": null,
      "grid_gap": null,
      "grid_row": null,
      "grid_template_areas": null,
      "grid_template_columns": null,
      "grid_template_rows": null,
      "height": null,
      "justify_content": null,
      "justify_items": null,
      "left": null,
      "margin": null,
      "max_height": null,
      "max_width": null,
      "min_height": null,
      "min_width": null,
      "object_fit": null,
      "object_position": null,
      "order": null,
      "overflow": null,
      "overflow_x": null,
      "overflow_y": null,
      "padding": null,
      "right": null,
      "top": null,
      "visibility": null,
      "width": null
     }
    },
    "c1b727df2b1347f8a3e891f0e61eac6f": {
     "model_module": "@jupyter-widgets/base",
     "model_module_version": "1.2.0",
     "model_name": "LayoutModel",
     "state": {
      "_model_module": "@jupyter-widgets/base",
      "_model_module_version": "1.2.0",
      "_model_name": "LayoutModel",
      "_view_count": null,
      "_view_module": "@jupyter-widgets/base",
      "_view_module_version": "1.2.0",
      "_view_name": "LayoutView",
      "align_content": null,
      "align_items": null,
      "align_self": null,
      "border": null,
      "bottom": null,
      "display": null,
      "flex": null,
      "flex_flow": null,
      "grid_area": null,
      "grid_auto_columns": null,
      "grid_auto_flow": null,
      "grid_auto_rows": null,
      "grid_column": null,
      "grid_gap": null,
      "grid_row": null,
      "grid_template_areas": null,
      "grid_template_columns": null,
      "grid_template_rows": null,
      "height": null,
      "justify_content": null,
      "justify_items": null,
      "left": null,
      "margin": null,
      "max_height": null,
      "max_width": null,
      "min_height": null,
      "min_width": null,
      "object_fit": null,
      "object_position": null,
      "order": null,
      "overflow": null,
      "overflow_x": null,
      "overflow_y": null,
      "padding": null,
      "right": null,
      "top": null,
      "visibility": null,
      "width": null
     }
    },
    "e1d97d9ac2b64a4b8227305ff5a15a3b": {
     "model_module": "@jupyter-widgets/base",
     "model_module_version": "1.2.0",
     "model_name": "LayoutModel",
     "state": {
      "_model_module": "@jupyter-widgets/base",
      "_model_module_version": "1.2.0",
      "_model_name": "LayoutModel",
      "_view_count": null,
      "_view_module": "@jupyter-widgets/base",
      "_view_module_version": "1.2.0",
      "_view_name": "LayoutView",
      "align_content": null,
      "align_items": null,
      "align_self": null,
      "border": null,
      "bottom": null,
      "display": null,
      "flex": null,
      "flex_flow": null,
      "grid_area": null,
      "grid_auto_columns": null,
      "grid_auto_flow": null,
      "grid_auto_rows": null,
      "grid_column": null,
      "grid_gap": null,
      "grid_row": null,
      "grid_template_areas": null,
      "grid_template_columns": null,
      "grid_template_rows": null,
      "height": null,
      "justify_content": null,
      "justify_items": null,
      "left": null,
      "margin": null,
      "max_height": null,
      "max_width": null,
      "min_height": null,
      "min_width": null,
      "object_fit": null,
      "object_position": null,
      "order": null,
      "overflow": null,
      "overflow_x": null,
      "overflow_y": null,
      "padding": null,
      "right": null,
      "top": null,
      "visibility": null,
      "width": null
     }
    },
    "e1e544295ee04f9d9446d33d72117505": {
     "model_module": "@jupyter-widgets/controls",
     "model_module_version": "1.5.0",
     "model_name": "DescriptionStyleModel",
     "state": {
      "_model_module": "@jupyter-widgets/controls",
      "_model_module_version": "1.5.0",
      "_model_name": "DescriptionStyleModel",
      "_view_count": null,
      "_view_module": "@jupyter-widgets/base",
      "_view_module_version": "1.2.0",
      "_view_name": "StyleView",
      "description_width": ""
     }
    },
    "e5a39647e8754a9b841b9a5a924db9ca": {
     "model_module": "@jupyter-widgets/controls",
     "model_module_version": "1.5.0",
     "model_name": "HTMLModel",
     "state": {
      "_dom_classes": [],
      "_model_module": "@jupyter-widgets/controls",
      "_model_module_version": "1.5.0",
      "_model_name": "HTMLModel",
      "_view_count": null,
      "_view_module": "@jupyter-widgets/controls",
      "_view_module_version": "1.5.0",
      "_view_name": "HTMLView",
      "description": "",
      "description_tooltip": null,
      "layout": "IPY_MODEL_f4bd772fc644408aa7a2c02a435670f2",
      "placeholder": "​",
      "style": "IPY_MODEL_ffcf4e4f78734ccf9bac823f9827901c",
      "value": " 233M/233M [00:16&lt;00:00, 13.0MB/s]"
     }
    },
    "e8514636089e4ef58d287f4e4a2613fe": {
     "model_module": "@jupyter-widgets/controls",
     "model_module_version": "1.5.0",
     "model_name": "ProgressStyleModel",
     "state": {
      "_model_module": "@jupyter-widgets/controls",
      "_model_module_version": "1.5.0",
      "_model_name": "ProgressStyleModel",
      "_view_count": null,
      "_view_module": "@jupyter-widgets/base",
      "_view_module_version": "1.2.0",
      "_view_name": "StyleView",
      "bar_color": null,
      "description_width": ""
     }
    },
    "f2785159aae444bb820eaeae00ff2cc3": {
     "model_module": "@jupyter-widgets/controls",
     "model_module_version": "1.5.0",
     "model_name": "FloatProgressModel",
     "state": {
      "_dom_classes": [],
      "_model_module": "@jupyter-widgets/controls",
      "_model_module_version": "1.5.0",
      "_model_name": "FloatProgressModel",
      "_view_count": null,
      "_view_module": "@jupyter-widgets/controls",
      "_view_module_version": "1.5.0",
      "_view_name": "ProgressView",
      "bar_style": "success",
      "description": "",
      "description_tooltip": null,
      "layout": "IPY_MODEL_ab02fcf822d044118a61bae958133aea",
      "max": 40,
      "min": 0,
      "orientation": "horizontal",
      "style": "IPY_MODEL_108afe6f1aab493f88b5c1a2450c7b1c",
      "value": 40
     }
    },
    "f4bd772fc644408aa7a2c02a435670f2": {
     "model_module": "@jupyter-widgets/base",
     "model_module_version": "1.2.0",
     "model_name": "LayoutModel",
     "state": {
      "_model_module": "@jupyter-widgets/base",
      "_model_module_version": "1.2.0",
      "_model_name": "LayoutModel",
      "_view_count": null,
      "_view_module": "@jupyter-widgets/base",
      "_view_module_version": "1.2.0",
      "_view_name": "LayoutView",
      "align_content": null,
      "align_items": null,
      "align_self": null,
      "border": null,
      "bottom": null,
      "display": null,
      "flex": null,
      "flex_flow": null,
      "grid_area": null,
      "grid_auto_columns": null,
      "grid_auto_flow": null,
      "grid_auto_rows": null,
      "grid_column": null,
      "grid_gap": null,
      "grid_row": null,
      "grid_template_areas": null,
      "grid_template_columns": null,
      "grid_template_rows": null,
      "height": null,
      "justify_content": null,
      "justify_items": null,
      "left": null,
      "margin": null,
      "max_height": null,
      "max_width": null,
      "min_height": null,
      "min_width": null,
      "object_fit": null,
      "object_position": null,
      "order": null,
      "overflow": null,
      "overflow_x": null,
      "overflow_y": null,
      "padding": null,
      "right": null,
      "top": null,
      "visibility": null,
      "width": null
     }
    },
    "f61142ca12c54fcdaa5b3fef5bf245af": {
     "model_module": "@jupyter-widgets/controls",
     "model_module_version": "1.5.0",
     "model_name": "DescriptionStyleModel",
     "state": {
      "_model_module": "@jupyter-widgets/controls",
      "_model_module_version": "1.5.0",
      "_model_name": "DescriptionStyleModel",
      "_view_count": null,
      "_view_module": "@jupyter-widgets/base",
      "_view_module_version": "1.2.0",
      "_view_name": "StyleView",
      "description_width": ""
     }
    },
    "ffcf4e4f78734ccf9bac823f9827901c": {
     "model_module": "@jupyter-widgets/controls",
     "model_module_version": "1.5.0",
     "model_name": "DescriptionStyleModel",
     "state": {
      "_model_module": "@jupyter-widgets/controls",
      "_model_module_version": "1.5.0",
      "_model_name": "DescriptionStyleModel",
      "_view_count": null,
      "_view_module": "@jupyter-widgets/base",
      "_view_module_version": "1.2.0",
      "_view_name": "StyleView",
      "description_width": ""
     }
    }
   }
  }
 },
 "nbformat": 4,
 "nbformat_minor": 5
}